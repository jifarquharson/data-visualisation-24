{
 "cells": [
  {
   "cell_type": "markdown",
   "metadata": {},
   "source": [
    "# Introduction to Data Visualisation\n",
    "## <font color='grey'>Part 2</font>\n",
    "# Mapping data types to visual objects\n",
    "### VMSG 2024\n",
    "### Prof. Jamie Farquharson, Niigata University Japan. \n",
    "\n",
    "Email: jfarquharson@gs.niigata-u.ac.jp\n",
    "Website:  https://jifarquharson.github.io/\n",
    "\n",
    "***\n",
    "\n",
    "# Outline\n",
    "> ### $\\S$1. Data and data types\n",
    "> ### $\\S$2. Plotting data\n",
    "> ### $\\S$3. Beyond the default\n",
    "> ### $\\S$4. Mapping data to chart types\n",
    "> ### $\\S$5. Figure fixer"
   ]
  },
  {
   "cell_type": "markdown",
   "metadata": {},
   "source": [
    "### This is a Jupyter Notebook\n",
    "A `Notebook` is a web application for creating and sharing *computational documents*. It is a very useful environment (often embedded within a   `JupyterLab` environment) for data science, scientific computing, and other applications. We will be using it to read and display data in a variety of formats. The `Notebook` is composed of two main *cell* types: `Markdown` and `Code`. `Markdown` cells contain formatted text. `Code` cells contain executable code, in this case written in `Python`."
   ]
  },
  {
   "cell_type": "markdown",
   "metadata": {},
   "source": [
    "`Code` cells can be executed individually by clicking &rarr;`Run`, or by pressing the `Shift` + `Return` keys. \n",
    "\n",
    "We can use `=` to assign a `value` to a `variable`. Let's try:"
   ]
  },
  {
   "cell_type": "code",
   "execution_count": null,
   "metadata": {},
   "outputs": [],
   "source": [
    "name = \"\" ### Enter your name between the \" \", and run the cell."
   ]
  },
  {
   "cell_type": "markdown",
   "metadata": {},
   "source": [
    "Nothing obvious happens, but we can now use that `variable` in subsequent `cell` operations. Try running the next `cell`."
   ]
  },
  {
   "cell_type": "code",
   "execution_count": null,
   "metadata": {},
   "outputs": [],
   "source": [
    "print('Hello {}! Welcome to VMSG 2024 '.format(name)+u'\\U0001F30B')"
   ]
  },
  {
   "cell_type": "markdown",
   "metadata": {},
   "source": [
    "***\n",
    "### A very quick introduction to functions\n",
    "Often, we want to perform a similar operation many times, in which case it is sensible to write a `function`. A function usually takes some `inputs`, performs an operation, and gives some `outputs`. Here is a simple example:"
   ]
  },
  {
   "cell_type": "code",
   "execution_count": null,
   "metadata": {},
   "outputs": [],
   "source": [
    "def say_hello():\n",
    "    response = input (\"What is your name? \")\n",
    "    print('\\nHello {}! Welcome to VMSG 2024 '.format(str(response))+u'\\U0001F30B')"
   ]
  },
  {
   "cell_type": "markdown",
   "metadata": {},
   "source": [
    "This won't do anything until we call the function, like this:"
   ]
  },
  {
   "cell_type": "code",
   "execution_count": null,
   "metadata": {},
   "outputs": [],
   "source": [
    "say_hello()"
   ]
  },
  {
   "cell_type": "markdown",
   "metadata": {},
   "source": [
    "### Here's another function:"
   ]
  },
  {
   "cell_type": "code",
   "execution_count": null,
   "metadata": {},
   "outputs": [],
   "source": [
    "def yourNumber():\n",
    "    seed = input(\"Please input an integer value from 0 to 4294967295: \")\n",
    "    try:\n",
    "        val = int(seed)\n",
    "        try:\n",
    "            assert 0 <= val <= 2**32 - 1\n",
    "            print(\"\\nYour number is {}\".format(seed))\n",
    "            return int(seed)\n",
    "        except:\n",
    "            print(\"Number out of range\")\n",
    "            yourNumber()\n",
    "    except ValueError:\n",
    "        print(\"That's not an integer\")\n",
    "        yourNumber()"
   ]
  },
  {
   "cell_type": "markdown",
   "metadata": {},
   "source": [
    "### Now, please enter a number when prompted by `yourNumber()` ###"
   ]
  },
  {
   "cell_type": "code",
   "execution_count": null,
   "metadata": {},
   "outputs": [],
   "source": [
    "seed = yourNumber()"
   ]
  },
  {
   "cell_type": "markdown",
   "metadata": {},
   "source": [
    "### Double-check your number, which is saved as a variable named `seed`:"
   ]
  },
  {
   "cell_type": "code",
   "execution_count": null,
   "metadata": {},
   "outputs": [],
   "source": [
    "seed"
   ]
  },
  {
   "cell_type": "markdown",
   "metadata": {},
   "source": [
    "We can (and will) use this number later, at any time, until it is overwritten (i.e. if you were to assign another value to a variable with the name `seed`). Notice that `name` and `seed` are different types of data: a `string` and an `integer`, respectively."
   ]
  },
  {
   "cell_type": "markdown",
   "metadata": {},
   "source": [
    "### This is not a `Python` class, so we'll leave it there. When asked, please &rarr;`Run` the relevant `code` cells.\n",
    "So that you don't have to, a series of `functions` have been written and stored in another `Notebook`. Run the following code so that we can access those functions later."
   ]
  },
  {
   "cell_type": "code",
   "execution_count": null,
   "metadata": {},
   "outputs": [],
   "source": [
    "%run Functions.ipynb     # This is were some relevant functions are stored"
   ]
  },
  {
   "cell_type": "markdown",
   "metadata": {},
   "source": [
    "\n",
    "***\n",
    "# $\\S$1. Data and data types"
   ]
  },
  {
   "cell_type": "markdown",
   "metadata": {},
   "source": [
    "We can import data from an external file. For example, we have a `tsv` file containing data, called \"DatasaurusDozen-wide.tsv,\" which we can read in to our `Notebook`. We'll read it in to a format called a `DataFrame`, and check the first few lines of the result."
   ]
  },
  {
   "cell_type": "code",
   "execution_count": null,
   "metadata": {},
   "outputs": [],
   "source": [
    "data = pd.read_csv(\"The Datasaurus Dozen/DatasaurusDozen-wide.tsv\", sep = \"\\t\", header = 0,)\n",
    "data = data.drop([0])\n",
    "data = data.apply(pd.to_numeric).reset_index()"
   ]
  },
  {
   "cell_type": "code",
   "execution_count": null,
   "metadata": {},
   "outputs": [],
   "source": [
    "data.head()"
   ]
  },
  {
   "cell_type": "markdown",
   "metadata": {},
   "source": [
    "Now we can plot these data, if we want. Perhaps as **Histograms**:"
   ]
  },
  {
   "cell_type": "code",
   "execution_count": null,
   "metadata": {},
   "outputs": [],
   "source": [
    "plt.hist(data['dino'],bins = np.linspace(0,101,20), alpha = 0.5)\n",
    "plt.hist(data['dino.1'],bins = np.linspace(0,101,20),  alpha = 0.5)\n",
    "plt.show()"
   ]
  },
  {
   "cell_type": "markdown",
   "metadata": {},
   "source": [
    "Perhaps as a **line chart**:"
   ]
  },
  {
   "cell_type": "code",
   "execution_count": null,
   "metadata": {},
   "outputs": [],
   "source": [
    "plt.plot(data['dino'])\n",
    "plt.plot(data['dino.1'])\n",
    "plt.show()"
   ]
  },
  {
   "cell_type": "markdown",
   "metadata": {},
   "source": [
    "Or perhaps as a **scatterplot**:"
   ]
  },
  {
   "cell_type": "code",
   "execution_count": null,
   "metadata": {},
   "outputs": [],
   "source": [
    "for i in range(20):\n",
    "    fig=plt.figure(1, figsize=(4,4), frameon=True, dpi = 100)\n",
    "    ax = fig.add_subplot(111)\n",
    "    ax.set_facecolor(np.random.rand(3,).reshape(1,-1)[0])\n",
    "    clear_output(wait=True)\n",
    "    plt.scatter(data['dino'], data['dino.1'], marker=\".\",\\\n",
    "               c=np.random.rand(3,).reshape(1,-1))\n",
    "    time.sleep(.5)\n",
    "    plt.show()\n",
    "display(Markdown('### Nice.'))"
   ]
  },
  {
   "cell_type": "markdown",
   "metadata": {},
   "source": [
    "### Common types of data\n",
    "There are many different kinds of data, and the kind of data visualisation we employ depends, partly, on the data type.\n",
    "\n",
    "Here are some of the most common data types you may have to work with.\n",
    "\n",
    "> `Categorical data`:\n",
    "\n",
    "This type of data represents **categories** (labels) that cannot be measured numerically.\n",
    "\n",
    "For example, types of phenocryst: quartz, feldspar, biotite.\n",
    "\n",
    "> `Numerical data`:\n",
    "\n",
    "This type of data represents _measurable quantities_ in **numerical** form. `Numerical data` can be **discrete** or **continuous**.\n",
    "\n",
    "For example, \n",
    "- the number of volcanic eruptions in a specific region or over a certain time period (`discrete data`), or \n",
    "- the concentration of Cl in rhyolite (involves quantifiable measurements of `continuous data`).\n",
    "\n",
    "> `Nominal data`:\n",
    "\n",
    "This type of data represents **categories** (or labels) _without an inherent order_.\n",
    "\n",
    "For example, eruption types: Surtseyan, Vulcanian, Strombolian, Hawaiian\n",
    "\n",
    "> `Ordinal data`:\n",
    "\n",
    "This type of data represents categories _with an inherent order_, but the intervals between categories are not uniform. \n",
    "\n",
    "For example, Volcanic Explosivity Index: VEI 0 (a non-explosive lava flow) $\\rightarrow$ VEI 8 (VEI 8: a mega-colossal eruption).\n",
    "\n",
    "> `Interval data`:\n",
    "\n",
    "This type of data represents data that has a consistent **interval** (the difference between values), but _without a zero point_. \n",
    "\n",
    "For example, fumarole temperature measurements in °C: there is the same interval between -1 °C and 0 °C, and 0 °C and 1 °C. However, 0 °C does not mean an _absence_ of temperature.\n",
    "\n",
    "> `Ratio data`:\n",
    "\n",
    "This type of data is similar to `Interval data`, but _with a zero point_, such that zero means that the quantity being measured is absent.\n",
    "\n",
    "For example, melt water content: there is the same interval between 2 wt.% and 1 wt.% as between 1 wt.% and 0 wt.%. However, 0 wt.% H$_2$O means there is no water, and we cannot observe negative values.\n",
    "\n",
    "> `Discrete data`:\n",
    "\n",
    "This type of data represents distinct (separate) values, where no intermediate values are possible.\n",
    "\n",
    "For example, the number of historical eruptions from a given volcano. It could be 0, or 18, or 198, but it cannot be 17.9 or 18.1 (you cannot have 0.1 of an eruption).\n",
    "\n",
    "> `Continuous data`:\n",
    "\n",
    "This type of data has an infinite number of possible values (within a given range). \n",
    "\n",
    "For example, ground displacement due to magma chamber inflation. The value could be 10 mm, or 10.1 mm, or 10.01 mm, or 10.9823745610 mm...\n",
    "\n",
    "> `Binary data`:\n",
    "\n",
    "This type of data consists of only two possible values.\n",
    "\n",
    "For example, \n",
    "- Is there an evacuation order in place? [Yes | No]\n",
    "- This volcano is currently erupting [True | False]\n",
    "\n",
    "> `Text data`:\n",
    "\n",
    "This type of data represents **textual information** and is often **unstructured**.\n",
    "\n",
    "For example, survey response data."
   ]
  },
  {
   "cell_type": "markdown",
   "metadata": {},
   "source": [
    "### Other relevant data\n",
    "\n",
    "While the above are, generally speaking, the most common datatypes, there are others that you are likely to come across in volcano research.\n",
    "\n",
    "These include:\n",
    "> `Geospatial data`:\n",
    "\n",
    "Data representing **geographic location** and/or characteristics of the spatial features on, above, or below the Earth's surface.\n",
    "\n",
    "For example, an ash isopach map, sampling or drilling locations, SO$_2$ dispersal maps.\n",
    "\n",
    "> `Temporal data`:\n",
    "\n",
    "Also known as time-series data, this datatype represents information about time and temporal relationships.\n",
    "\n",
    "For example, ground deformation in one location _over time_, precipitation in one location _over time_, volcano summit temperature _over time_.\n",
    "\n",
    "> `Network data`:\n",
    "\n",
    "This type of data represents **connections**, **communication**, or **relationships** between discrete entitites.\n",
    "\n",
    "For example, retweets on Twitter*. The users are discrete entities, or _nodes_ in a network. Interactions such as retweets are connections, or _edges_ between those nodes.\n",
    "\n",
    "> `Sensor data`:\n",
    "\n",
    "This type of data represents information collected by **sensors** that measure physical or environmental conditions.\n",
    "\n",
    "For example, output from seismometers, gas sensors, or thermal sensors.\n",
    "\n",
    "Other datatypes that you might encounter are `Image data` (including satellite or drone imagery) and `Audio data`.\n",
    "\n",
    "*$\\mathbb{X}$, whatever"
   ]
  },
  {
   "cell_type": "markdown",
   "metadata": {},
   "source": [
    "\n",
    "***\n",
    "# $\\S$2. Plotting data"
   ]
  },
  {
   "cell_type": "markdown",
   "metadata": {},
   "source": [
    "### Dataset 1: Tilt"
   ]
  },
  {
   "cell_type": "markdown",
   "metadata": {},
   "source": [
    "A _tiltmeter_ determines tiny changes in the angle of a slope (i.e. the _tilt_ of the ground), in order to monitor deformation caused by magma migrating in Earth's interior. Tiltmeters rely on a liquid level or pendulum.  We are going to use a function to generate some *synthetic* tilt data, using a `function` called `generate_tilt_data()`. The only input is your number from earlier.\n"
   ]
  },
  {
   "cell_type": "code",
   "execution_count": null,
   "metadata": {},
   "outputs": [],
   "source": [
    "t, tilt =  generate_tilt_data(seed)"
   ]
  },
  {
   "cell_type": "markdown",
   "metadata": {},
   "source": [
    "The output here is two datasets, one called `t` and one called `tilt`. Take a look at some of the data: what **types** of data are they? What does `t` represent?"
   ]
  },
  {
   "cell_type": "code",
   "execution_count": null,
   "metadata": {
    "scrolled": true
   },
   "outputs": [],
   "source": [
    "t[0:21] ## We will just look at the first 21 data points. To see them all, you can use the command `print(t)`"
   ]
  },
  {
   "cell_type": "code",
   "execution_count": null,
   "metadata": {},
   "outputs": [],
   "source": [
    "tilt[0:21] ## We will just look at the first 21 data points. To see them all, you can use the command `print(t)`"
   ]
  },
  {
   "cell_type": "markdown",
   "metadata": {},
   "source": [
    "### Dataset 2: TAS"
   ]
  },
  {
   "cell_type": "markdown",
   "metadata": {},
   "source": [
    "Volcanic rocks are commonly discriminated according to their TAS: Total-alkali-silica classification. The alkali content is commonly Na$_2$O + K$_2$O, and the silica content is SiO$_2$. We are going to use a function to generate some *synthetic* TAS data, using a `function` called `generate_TAS_data()`. The only input is your number from earlier."
   ]
  },
  {
   "cell_type": "code",
   "execution_count": null,
   "metadata": {},
   "outputs": [],
   "source": [
    "SiO2_values, TA_values = generate_TAS_data(seed)"
   ]
  },
  {
   "cell_type": "markdown",
   "metadata": {},
   "source": [
    "The output here is two datasets, one called `SiO2_values` and one called `TA_values`. Take a look at some of the data: what **types** of data are they?"
   ]
  },
  {
   "cell_type": "code",
   "execution_count": null,
   "metadata": {},
   "outputs": [],
   "source": [
    "SiO2_values"
   ]
  },
  {
   "cell_type": "code",
   "execution_count": null,
   "metadata": {},
   "outputs": [],
   "source": [
    "TA_values"
   ]
  },
  {
   "cell_type": "markdown",
   "metadata": {},
   "source": [
    "### Dataset 3: Precipitation"
   ]
  },
  {
   "cell_type": "markdown",
   "metadata": {},
   "source": [
    "It is often important to know about the environmental conditions of a volcano you are studying. Precipitation (i.e. rainfall) can be useful to know as it can affect things like satellite data completeness, instrument function, water table position, plume dispersal, site accessibility, and so on. We are going to use a function to generate some *synthetic* precipitation data, using a `function` called `generate_precipitation_data()`. The only input is your number from earlier."
   ]
  },
  {
   "cell_type": "code",
   "execution_count": null,
   "metadata": {},
   "outputs": [],
   "source": [
    "mean_precip, months, years = generate_precipitation_data(seed)"
   ]
  },
  {
   "cell_type": "markdown",
   "metadata": {},
   "source": [
    "The output here is three datasets, one called `mean_precip`, one called `months`, and one called `years`. Take a look at some of the data: what **types** of data are they? Is there anything you can spot from the data?"
   ]
  },
  {
   "cell_type": "code",
   "execution_count": null,
   "metadata": {},
   "outputs": [],
   "source": [
    "mean_precip"
   ]
  },
  {
   "cell_type": "code",
   "execution_count": null,
   "metadata": {},
   "outputs": [],
   "source": [
    "months"
   ]
  },
  {
   "cell_type": "code",
   "execution_count": null,
   "metadata": {},
   "outputs": [],
   "source": [
    "years"
   ]
  },
  {
   "cell_type": "markdown",
   "metadata": {},
   "source": [
    "### Bar, Scatter, and Line charts\n",
    "Bar charts, scatter plots, and line charts are three of the most commonly used types of graph. However, they are not equally appropriate for different datatypes."
   ]
  },
  {
   "cell_type": "code",
   "execution_count": null,
   "metadata": {},
   "outputs": [],
   "source": [
    "plot_three_charts(seed)"
   ]
  },
  {
   "cell_type": "markdown",
   "metadata": {},
   "source": [
    "Which of the plots best showcases the different datatypes? Why are some appropriate but not others?"
   ]
  },
  {
   "cell_type": "markdown",
   "metadata": {},
   "source": [
    "### Essential items\n",
    "\n",
    "#### The default plots give us some information, but there is a lot missing! Some basic things we must include:\n",
    "\n",
    "> `Data`\n",
    "\n",
    "Sounds obvious, but you should include the _actual data points_, _lines_, _bars_, etc.\n",
    "\n",
    "> `Labels`\n",
    "- X-axis: what is the variable being represented on the **horizontal** axis?\n",
    "- Y-axis: what is the variable being represented on the **vertical** axis?\n",
    "- Z-axis?\n",
    "\n",
    "> `Units`\n",
    "\n",
    "Must be provided, where appropriate, for each axis.\n",
    "\n",
    "> `Tick marks`\n",
    "\n",
    "Tick marks on each axis help readers interpret data values. It also indicates whether axes are logged, linear, or something else.\n",
    "\n",
    "> `Legend`\n",
    "\n",
    "If there are multiple data series plotted, a legend should be included to distinguish between them.\n",
    "\n",
    "> `Data source(s)`\n",
    "\n",
    "Especially if some of the data were not collected by you (e.g. literature data).\n",
    "\n",
    "> `Caption`\n",
    "\n",
    "In a scientific context, you will need to provide a caption that describes the data, offering context or insights. This can be the place for title information, data sources, and information that would otherwise be annotations. \n",
    "\n",
    "### Optional extras\n",
    "\n",
    "> `Gridlines`\n",
    "\n",
    "Can be useful to guide the reader's eye.\n",
    "\n",
    "> `Title`\n",
    "\n",
    "A title describes the content, or purpose, of a graph. In a scientific context, this is often part of the `Caption`.\n",
    "\n",
    "\n",
    "> `Annotations`\n",
    "\n",
    "Additional **text** or **shapes** that provide explanations, highlight key points, or add context.\n",
    "\n",
    "\n",
    "> `Colours` and `Styles`:\n",
    "\n",
    "Colour and style (e.g. dashed or dotted lines) can be used to differentiate between data series, or to represent data directly (e.g. a colourbar to represent magnitude). Always be mindful of the use of colour and style in the context of accessibility. \n",
    "\n",
    "\n",
    "### Specific data visualisation types might require specific elements, such as a North arrow, a scale, error bars, and so on."
   ]
  },
  {
   "cell_type": "markdown",
   "metadata": {},
   "source": [
    "\n",
    "***\n",
    "# $\\S$3. Beyond the default"
   ]
  },
  {
   "cell_type": "markdown",
   "metadata": {},
   "source": [
    "We will use our synthetic TAS data as an illustration."
   ]
  },
  {
   "cell_type": "code",
   "execution_count": null,
   "metadata": {},
   "outputs": [],
   "source": [
    "fig=plt.figure(1, figsize=(6,4), frameon=True, dpi = 100) ### We will plot a figure 6 x 4 inches\n",
    "ax1 = fig.add_subplot(111) ### Initialise the axes\n"
   ]
  },
  {
   "cell_type": "markdown",
   "metadata": {},
   "source": [
    "### Add the data"
   ]
  },
  {
   "cell_type": "code",
   "execution_count": null,
   "metadata": {},
   "outputs": [],
   "source": [
    "fig=plt.figure(1, figsize=(6,4), frameon=True, dpi = 100) ### We will plot a figure 6 x 4 inches\n",
    "ax1 = fig.add_subplot(111) ### Initialise the axes\n",
    "\n",
    "ax1.scatter(SiO2_values, TA_values)\n",
    "plt.show()"
   ]
  },
  {
   "cell_type": "markdown",
   "metadata": {},
   "source": [
    "### Add axes labels and units"
   ]
  },
  {
   "cell_type": "code",
   "execution_count": null,
   "metadata": {},
   "outputs": [],
   "source": [
    "fig=plt.figure(1, figsize=(6,4), frameon=True, dpi = 100) ### We will plot a figure 6 x 4 inches\n",
    "ax1 = fig.add_subplot(111) ### Initialise the axes\n",
    "\n",
    "ax1.scatter(SiO2_values, TA_values) ### Plot the data\n",
    "\n",
    "ax1.set_xlabel(r'SiO$_2$ (wt%)')   ### Set the x-axis label\n",
    "ax1.set_ylabel(r'Na$_2$O + K$_2$O (wt%)')  ### Set the y-axis label\n",
    "plt.show()"
   ]
  },
  {
   "cell_type": "markdown",
   "metadata": {},
   "source": [
    "### Adjust the limits of the x- and y-axes, and add some context (annotations). \n",
    "\n",
    "The fields are from\n",
    "> Le Maitre RW (2002) Igneous rocks : IUGS classification and glossary of\n",
    "        terms : recommendations of the International Union of Geological \n",
    "        Sciences Subcommission on the Systematics of igneous rocks, 2nd ed. \n",
    "        Cambridge University Press, Cambridge\n",
    "        \n",
    "The function to plot them was written by John Stevenson and Joaquin Cortés."
   ]
  },
  {
   "cell_type": "code",
   "execution_count": null,
   "metadata": {},
   "outputs": [],
   "source": [
    "fig=plt.figure(1, figsize=(6,4), frameon=True, dpi = 100) ### We will plot a figure 6 x 4 inches\n",
    "ax1 = fig.add_subplot(111) ### Initialise the axes\n",
    "\n",
    "ax1.scatter(SiO2_values, TA_values) ### Plot the data\n",
    "\n",
    "ax1.set_xlabel(r'SiO$_2$ (wt%)')  ### Set the x-axis label\n",
    "ax1.set_ylabel(r'Na$_2$O + K$_2$O (wt%)')  ### Set the y-axis label\n",
    "\n",
    "add_LeMaitre_fields(ax1)  # add TAS fields to the figure\n",
    " \n",
    "ax1.set_ylim(0,14)   ### Set the y-axis limits appropriately\n",
    "ax1.set_xlim(40, 79)   ### Set the x-axis limits appropriately\n",
    "plt.show()"
   ]
  },
  {
   "cell_type": "markdown",
   "metadata": {},
   "source": [
    "### Modify markers, add a legend, and include the caption"
   ]
  },
  {
   "cell_type": "code",
   "execution_count": null,
   "metadata": {},
   "outputs": [],
   "source": [
    "fig=plt.figure(1, figsize=(6,4), frameon=True, dpi = 100) ### We will plot a figure 6 x 4 inches\n",
    "ax1 = fig.add_subplot(111) ### Initialise the axes\n",
    "\n",
    "ax1.scatter(SiO2_values, TA_values, label = \"{} (2024)\".format(name), s = 50, marker = \"o\",\n",
    "            ec=\"k\",color = \"slategrey\", alpha = 0.85) ### Plot the data\n",
    "\n",
    "ax1.set_xlabel(r'SiO$_2$ (wt%)')  ### Set the x-axis label\n",
    "ax1.set_ylabel(r'Na$_2$O + K$_2$O (wt%)')  ### Set the y-axis label\n",
    "\n",
    "add_LeMaitre_fields(ax1)  # add TAS fields to the figure\n",
    " \n",
    "ax1.set_ylim(0,14)   ### Set the y-axis limits appropriately\n",
    "ax1.set_xlim(40, 79)   ### Set the x-axis limits appropriately\n",
    "ax1.legend(loc='upper right', numpoints=1, edgecolor = \"k\", fancybox =False)\n",
    "plt.show()\n",
    "display(Markdown('''**Figure 1**: Na$_2$O + K$_2$O versus SiO$_2$ (wt%) \n",
    "                 for new data collected in this study ({} 2024). \n",
    "                 TAS fields from Le Maitre et al. (2002) are presented for context.'''.format(name)))"
   ]
  },
  {
   "cell_type": "markdown",
   "metadata": {},
   "source": [
    "\n",
    "***\n",
    "# $\\S$4. Mapping data to chart types"
   ]
  },
  {
   "cell_type": "markdown",
   "metadata": {},
   "source": [
    "If have a dataset and try to plot it indiscriminately, we will run into trouble, as not all data visualisations are appropriate for all kinds of data. The function `chart_picker()` is a tool that can give an idea of which kind of chart to use, depending on what we want to show. Try a few options below (you will need to reset the function each time it gives an output)."
   ]
  },
  {
   "cell_type": "code",
   "execution_count": null,
   "metadata": {},
   "outputs": [],
   "source": [
    "chart_picker(seed)"
   ]
  },
  {
   "cell_type": "markdown",
   "metadata": {},
   "source": [
    "Based on the following research scenarios, think about what *kind* of data visualisation might be the best option.\n",
    "\n",
    "***\n",
    "### Scenario 1:\n",
    "\n",
    "Author 1 collected density measurements of pyroclastic ejecta (**numerical**, **ratio** data). They want to show the *distribution* of these data over a finite range. They have relatively few data (~200 data points). What kind of data visualisation should Author 1 use? Try using the `chart_picker`, then click to reveal the answer.\n"
   ]
  },
  {
   "cell_type": "code",
   "execution_count": null,
   "metadata": {},
   "outputs": [],
   "source": [
    "chart_picker(seed)"
   ]
  },
  {
   "cell_type": "code",
   "execution_count": null,
   "metadata": {},
   "outputs": [],
   "source": [
    "display(scenario_1_button)"
   ]
  },
  {
   "cell_type": "markdown",
   "metadata": {},
   "source": [
    "***\n",
    "### Scenario 2:\n",
    "\n",
    "Author 2 has a breakdown of contributions of different groups&mdash;such as volcanologists, economists, and politicians&mdash;to quotes given in newspaper articles about the Eyjafjallajökull ash cloud. How could Author 2 show the composition of quotes given to each news source as a share of the total contribution?  Try using the `chart_picker`, then click to reveal the answer.\n"
   ]
  },
  {
   "cell_type": "code",
   "execution_count": null,
   "metadata": {},
   "outputs": [],
   "source": [
    "chart_picker(seed)"
   ]
  },
  {
   "cell_type": "code",
   "execution_count": null,
   "metadata": {},
   "outputs": [],
   "source": [
    "display(scenario_2_button)"
   ]
  },
  {
   "cell_type": "markdown",
   "metadata": {},
   "source": [
    "***\n",
    "### Scenario 3:\n",
    "\n",
    "Author 3 has major element composition of matrix glass from pyroclast samples. For each sample, Author 3 has data pairs corresponding to a weight % of a given major oxide proportion, and the weight % of SiO<sub>2</sub>. How would Author 3 best visualise the distribution of and/or relationship between these two sets of variables? Try using the `chart_picker`, then click to reveal the answer.\n"
   ]
  },
  {
   "cell_type": "code",
   "execution_count": null,
   "metadata": {},
   "outputs": [],
   "source": [
    "chart_picker(seed)"
   ]
  },
  {
   "cell_type": "code",
   "execution_count": null,
   "metadata": {},
   "outputs": [],
   "source": [
    "display(scenario_3_button)"
   ]
  },
  {
   "cell_type": "markdown",
   "metadata": {},
   "source": [
    "***\n",
    "### Scenario 4\n",
    "\n",
    "Author 4 has data that breaks down whether volcanological publications (a) are led by local researchers, (b) include (but aren't led by) local researchers, or (c) do not include local researchers. The composition of these data change over time, but the annual data are only available over a 30-year timeframe. How would Author 4 best show the relative *and* absolute differences between these data? Try using the `chart_picker`, then click to reveal the answer."
   ]
  },
  {
   "cell_type": "code",
   "execution_count": null,
   "metadata": {},
   "outputs": [],
   "source": [
    "chart_picker(seed)"
   ]
  },
  {
   "cell_type": "code",
   "execution_count": null,
   "metadata": {},
   "outputs": [],
   "source": [
    "display(scenario_4_button)"
   ]
  },
  {
   "cell_type": "markdown",
   "metadata": {},
   "source": [
    "***\n",
    "### Scenario 5\n",
    "\n",
    "Author 5 has a time series of the total mass output of SO<sub>2</sub> during the 2021 eruption of La Soufrière, St Vincent. Author 5 wants to show the contribution of tropospheric and stratospheric SO<sub>2</sub> to the total mass loading (i.e. the composition of the summed data). They have relatively high temporal resolution, so there are many time periods. They are interested in the absolute differences between the different contributors. How could the author visualise these data?  Try using the `chart_picker`, then click to reveal the answer."
   ]
  },
  {
   "cell_type": "code",
   "execution_count": null,
   "metadata": {},
   "outputs": [],
   "source": [
    "chart_picker(seed)"
   ]
  },
  {
   "cell_type": "code",
   "execution_count": null,
   "metadata": {},
   "outputs": [],
   "source": [
    "display(scenario_5_button)"
   ]
  },
  {
   "cell_type": "markdown",
   "metadata": {},
   "source": [
    "***\n",
    "### Scenario 6\n",
    "\n",
    "Author 6 has a continuous timeseries of average δ<sup>18</sup>O values from the North Greenland Ice Core Project (NGRIP). The author wants to show if and how this variable changes over a very long time. How best could they visualise these data? Try using the `chart_picker`, then click to reveal the answer."
   ]
  },
  {
   "cell_type": "code",
   "execution_count": null,
   "metadata": {},
   "outputs": [],
   "source": [
    "chart_picker(seed)"
   ]
  },
  {
   "cell_type": "code",
   "execution_count": null,
   "metadata": {},
   "outputs": [],
   "source": [
    "display(scenario_6_button)"
   ]
  },
  {
   "cell_type": "markdown",
   "metadata": {},
   "source": [
    "***\n",
    "***\n",
    "# $\\S$5. Figure Fixer\n",
    "\n",
    "In this final section, you will generate and plot some data. You will then have a go at stylising the graph by tweaking lots of parameters.\n",
    "\n",
    "A few extra `Python` things to know about before moving forward:\n",
    "\n",
    " - __`**kwargs`__ are additional `key`word `arg`ument`s` for customising plots. Some examples of things you can change include the __marker sizes__, the __axes thickness__, or the __spacing__ between subplots.\n",
    "\n",
    "- __`*args`__ are `dict`ionaries containing additional `kwargs`.\n",
    "\n",
    "- there are many different elements to a `matplotlib` figure. Running the next function will help familiarise you with some of them:\n",
    "\n"
   ]
  },
  {
   "cell_type": "code",
   "execution_count": null,
   "metadata": {},
   "outputs": [],
   "source": [
    "plot_anatomy_figure(seed)"
   ]
  },
  {
   "cell_type": "markdown",
   "metadata": {},
   "source": [
    "This generates the data:"
   ]
  },
  {
   "cell_type": "code",
   "execution_count": null,
   "metadata": {},
   "outputs": [],
   "source": [
    "DATA = generate_data(seed=seed)\n",
    "DATA.head()"
   ]
  },
  {
   "cell_type": "markdown",
   "metadata": {},
   "source": [
    "There are several named colours available in `matplotlib` (the package we are using to visualise our data), as well as the capacity to define or import colours and colourmaps. The following code will print out all the available named colours, which might be useful.\n"
   ]
  },
  {
   "cell_type": "code",
   "execution_count": null,
   "metadata": {},
   "outputs": [],
   "source": [
    "named_colours = list(\n",
    "    mcolors.TABLEAU_COLORS.keys()) + list(\n",
    "    mcolors.BASE_COLORS.keys()) + list(\n",
    "    mcolors.CSS4_COLORS.keys())\n",
    "print(named_colours)"
   ]
  },
  {
   "cell_type": "markdown",
   "metadata": {},
   "source": [
    "The cell below contains a series of `dict`ionaries, which are just a way in which `Python` can store data, as `{key:value}` pairs. They are called:\n",
    "- `S1_kwargs`, which stores general parameter values for the first subplot (subplot 1);\n",
    "- `S2_kwargs`, which stores general parameter values for the second subplot (subplot 2);\n",
    "- `S1_D1`, which stores parameter values for the 1st dataset on subplot 1;\n",
    "- `S1_D2`, which stores parameter values for the 2nd dataset on subplot 1;\n",
    "- `S2_D1`, which stores parameter values for the 1st dataset on subplot 2;\n",
    "- `S2_D2`, which stores parameter values for the 2nd dataset on subplot 2;\n",
    "- `S2_D3`, which stores parameter values for the 3rd dataset on subplot 2; and\n",
    "- `S2_D4`, which stores parameter values for the 4th dataset on subplot 2.\n",
    "\n",
    "You can modify parameters within each `dict`, or toggle them on and off (by typing a `#` at the start of the relevant line). If the parameter is a `string`, then type between the `\"` `\"`. Otherwise, if the parameter is a `float` or `int`eger (i.e. a numerical value), just change the value.\n",
    "\n",
    "You can also adjust `plt.rcParams['font.family']` to equal one of five named options. \n",
    "There are also a handful of other options you can change, either as a binary `True|False` option, or by setting a value (such as `horizontal_spacing`). I've been very helpful and set some of the values already. Your task is to produce an effective piece of data visualisation by fine-tuning the plot parameters. \n",
    "\n",
    "Alright, now go ahead and run the next cell."
   ]
  },
  {
   "cell_type": "code",
   "execution_count": null,
   "metadata": {},
   "outputs": [],
   "source": [
    "\n",
    "'''\n",
    "############################################\n",
    "##  You can adjust the font family here.  ##\n",
    "############################################\n",
    "'''\n",
    "\n",
    "            # This controls the typeface used on the graph.\n",
    "\n",
    "plt.rcParams['font.family'] = \"monospace\" ## \"fantasy\", \"monospace\", \"cursive\", \"serif\", \"sans-serif\"\n",
    "\n",
    "'''\n",
    "##########################################################################\n",
    "##  Subplot 1 kwargs. These control parameters for the second subplot.  ##\n",
    "##########################################################################\n",
    "'''\n",
    "S1_kwargs = {\n",
    "            # This controls the label on the x axis.\n",
    "    \"xlabel\": [\"Y data\"],\n",
    "            # This controls the label on the y axis.\n",
    "    \"ylabel\": [\"X data\"],\n",
    "            # This controls whether there is a grid.\n",
    "    \"grid\": [\"on\"],\n",
    "            # This controls whether the x axis is logged [\"log\"] or [\"linear\"].\n",
    "    \"xscale\": [\"linear\"],\n",
    "            # This controls whether the x axis is logged [\"log\"] or [\"linear\"].\n",
    "    \"yscale\": [\"linear\"],\n",
    "            # This controls the upper and lower limits of the x axis.\n",
    "    \"xlim\": [(-11.9, 80.9)],\n",
    "            # This controls the upper and lower limits of the x axis.\n",
    "    \"ylim\": [(1, 4000)], \n",
    "            # This controls whether there is a title, and what it says\n",
    "    \"title\" : [\"This is an AWESOME example of data visualisation!!!\"],\n",
    "            # This controls the colour of the subplot background.\n",
    "    \"facecolor\" : [\"hotpink\"],\n",
    "}\n",
    "\n",
    "'''\n",
    "##########################################################################\n",
    "##  Subplot 2 kwargs. These control parameters for the second subplot.  ##\n",
    "##########################################################################\n",
    "'''\n",
    "S2_kwargs = {\n",
    "            # This controls the label on the x axis.\n",
    "    \"xlabel\": [\"X data\"],\n",
    "            # This controls the label on the y axis.\n",
    "    \"ylabel\": [\"Y data\"],\n",
    "            # This controls whether there is a grid.\n",
    "    \"grid\": [\"on\"],\n",
    "            # This controls whether the x axis is logged [\"log\"] or [\"linear\"].\n",
    "    \"xscale\": [\"linear\"],\n",
    "            # This controls whether the x axis is logged [\"log\"] or [\"linear\"].\n",
    "    \"yscale\": [\"linear\"],\n",
    "            # This controls the upper and lower limits of the x axis.\n",
    "    \"xlim\": [(10,120)],\n",
    "            # This controls the upper and lower limits of the x axis.\n",
    "    \"ylim\": [(-3000, 5001)], \n",
    "            # This controls whether there is a title, and what it says.\n",
    "#     \"title\" : [\"Title\"],\n",
    "            # This controls the colour of the subplot background.\n",
    "    \"facecolor\" : [\"oldlace\"],\n",
    "}\n",
    "\n",
    "\n",
    "'''\n",
    "###############################################################################################\n",
    "##  Dataset 1 kwargs. These control parameters for the first set of (x,y) data (subplot 1).  ##\n",
    "###############################################################################################\n",
    "'''\n",
    "S1_D1 = {\n",
    "            # This controls the marker size (scalar value or an array of the same length as the dataset).\n",
    "    \"s\": 50,\n",
    "            # This controls the marker colour (see options above).\n",
    "    \"color\": \"red\",\n",
    "            # This controls the marker line colour (see options above).\n",
    "    \"edgecolors\": \"k\",\n",
    "            # This controls the marker shape (options include: 's', 'o', '.', ',', '*', '^', 'v', 'p').\n",
    "    \"marker\": \"+\",\n",
    "            # This controls the layer order of items on the plot.\n",
    "    \"zorder\": 10,\n",
    "            # This controls the transparency of markers on the plot (values between 0.0 and 1.0).\n",
    "    \"alpha\": 0.85,\n",
    "            # This controls the thickness of lines, including the marker edges.\n",
    "    \"linewidths\": 0.25,\n",
    "            # This controls the style of lines, including the marker edges (\"-\", \":\", \"--\", \".-\").\n",
    "    \"linestyle\": \"-\", \n",
    "            # This controls whether there is a legend entry, and what it says.\n",
    "    \"label\": \"\",\n",
    "        }\n",
    "\n",
    "'''\n",
    "###############################################################################################\n",
    "##  Dataset 2 kwargs. These control parameters for the first set of (x,y) data (subplot 1).  ##\n",
    "###############################################################################################\n",
    "'''\n",
    "S1_D2 = {\n",
    "            # This controls the marker size (scalar value or an array of the same length as the dataset).\n",
    "    \"s\": 80,\n",
    "            # This controls the marker colour (see options above).\n",
    "    \"color\": \"lemonchiffon\",\n",
    "            # This controls the marker line colour (see options above).\n",
    "    \"edgecolors\": \"r\",\n",
    "            # This controls the marker shape (options include: 's', 'o', '.', ',', '*', '^', 'v', 'p').\n",
    "    \"marker\": \"_\",\n",
    "            # This controls the layer order of items on the plot.\n",
    "    \"zorder\": 2,\n",
    "            # This controls the transparency of markers on the plot (values between 0.0 and 1.0).\n",
    "    \"alpha\": 0.95,\n",
    "            # This controls the thickness of lines, including the marker edges.\n",
    "    \"linewidths\": 0.95,\n",
    "            # This controls the style of lines, including the marker edges (\"-\", \":\", \"--\", \".-\").\n",
    "    \"linestyle\": \"-\", \n",
    "            # This controls whether there is a legend entry, and what it says.\n",
    "    \"label\": \"\",\n",
    "        }\n",
    "\n",
    "'''\n",
    "###############################################################################################\n",
    "##  Dataset 1 kwargs. These control parameters for the first set of (x,y) data (subplot 2).  ##\n",
    "###############################################################################################\n",
    "'''\n",
    "S2_D1 = {\n",
    "            # This controls the marker size (scalar value or an array of the same length as the dataset).\n",
    "    \"s\": 100,\n",
    "            # This controls the marker colour (see options above).\n",
    "    \"color\": \"limegreen\",\n",
    "            # This controls the marker line colour (see options above).\n",
    "    \"edgecolors\": \"blue\",\n",
    "            # This controls the marker shape (options include: 's', 'o', '.', ',', '*', '^', 'v', 'p').\n",
    "    \"marker\": \"D\",\n",
    "            # This controls the layer order of items on the plot.\n",
    "    \"zorder\": 10,\n",
    "            # This controls the transparency of markers on the plot (values between 0.0 and 1.0).\n",
    "    \"alpha\": 0.8,\n",
    "            # This controls the thickness of lines, including the marker edges.\n",
    "    \"linewidths\": 2,\n",
    "            # This controls the style of lines, including the marker edges (\"-\", \":\", \"--\", \".-\").\n",
    "    \"linestyle\": \"--\", \n",
    "            # This controls whether there is a legend entry, and what it says.\n",
    "    \"label\": \"\",\n",
    "        }\n",
    "\n",
    "'''\n",
    "################################################################################################\n",
    "##  Dataset 2 kwargs. These control parameters for the second set of (x,y) data (subplot 2).  ##\n",
    "################################################################################################\n",
    "'''\n",
    "S2_D2 = {\n",
    "            # This controls the marker size (scalar value or an array of the same length as the dataset).\n",
    "    \"s\": 50,\n",
    "            # This controls the marker colour (see options above).\n",
    "    \"color\": \"pink\",\n",
    "            # This controls the marker line colour (see options above).\n",
    "    \"edgecolors\": \"grey\",\n",
    "            # This controls the marker shape (options include: 's', 'o', '.', ',', '*', '^', 'v', 'p').\n",
    "    \"marker\": \"^\",\n",
    "            # This controls the layer order of items on the plot.\n",
    "    \"zorder\": 10,\n",
    "            # This controls the transparency of markers on the plot (values between 0.0 and 1.0).\n",
    "    \"alpha\": 0.85,\n",
    "            # This controls the thickness of lines, including the marker edges.\n",
    "    \"linewidths\": 0.95,\n",
    "            # This controls the style of lines, including the marker edges (\"-\", \":\", \"--\", \".-\").\n",
    "    \"linestyle\": \"-.\", \n",
    "            # This controls whether there is a legend entry, and what it says.\n",
    "    \"label\": \"\",\n",
    "        }\n",
    "\n",
    "'''\n",
    "###############################################################################################\n",
    "##  Dataset 3 kwargs. These control parameters for the third set of (x,y) data (subplot 2).  ##\n",
    "###############################################################################################\n",
    "'''\n",
    "S2_D3 = {\n",
    "            # This controls the marker size (scalar value or an array of the same length as the dataset).\n",
    "    \"s\": 100,\n",
    "            # This controls the marker colour (see options above).\n",
    "    \"color\": \"firebrick\",\n",
    "            # This controls the marker line colour (see options above).\n",
    "    \"edgecolors\": \"k\",\n",
    "            # This controls the marker shape (options include: 's', 'o', '.', ',', '*', '^', 'v', 'p').\n",
    "    \"marker\": \"^\",\n",
    "            # This controls the layer order of items on the plot.\n",
    "    \"zorder\": 10,\n",
    "            # This controls the transparency of markers on the plot (values between 0.0 and 1.0).\n",
    "    \"alpha\": 0.5,\n",
    "            # This controls the thickness of lines, including the marker edges.\n",
    "    \"linewidths\": 1.0,\n",
    "            # This controls the style of lines, including the marker edges (\"-\", \":\", \"--\", \".-\").\n",
    "    \"linestyle\": \"-\", \n",
    "            # This controls whether there is a legend entry, and what it says.\n",
    "    \"label\": \"\",\n",
    "        }\n",
    "\n",
    "'''\n",
    "################################################################################################\n",
    "##  Dataset 4 kwargs. These control parameters for the fourth set of (x,y) data (subplot 2).  ##\n",
    "################################################################################################\n",
    "'''\n",
    "S2_D4 = {\n",
    "            # This controls the marker size (scalar value or an array of the same length as the dataset).\n",
    "    \"s\": 100,\n",
    "            # This controls the marker colour (see options above).\n",
    "    \"color\": \"k\",\n",
    "            # This controls the marker line colour (see options above).\n",
    "    \"edgecolors\": \"k\",\n",
    "            # This controls the marker shape (options include: 's', 'o', '.', ',', '*', '^', 'v', 'p').\n",
    "    \"marker\": \"*\",\n",
    "            # This controls the layer order of items on the plot.\n",
    "    \"zorder\": 10,\n",
    "            # This controls the transparency of markers on the plot (values between 0.0 and 1.0).\n",
    "    \"alpha\": 1.0,\n",
    "            # This controls the thickness of lines, including the marker edges.\n",
    "    \"linewidths\": 0.5,\n",
    "            # This controls the style of lines, including the marker edges (\"-\", \":\", \"--\", \".-\").\n",
    "    \"linestyle\": \"-\", \n",
    "            # This controls whether there is a legend entry, and what it says.\n",
    "    \"label\": \"???\",\n",
    "        }\n",
    "\n",
    "'''\n",
    "#####################################################################################\n",
    "##  The arg[ument]s are passed through to the plot. Please don't modify this line. ##\n",
    "#####################################################################################\n",
    "'''\n",
    "S2_kwargs[\"facecolor\"] = [\"palevioletred\"]\n",
    "args = [S1_kwargs, S2_kwargs, S1_D1,S1_D2,S2_D1, S2_D2,  S2_D3, S2_D4]    #! Do not modify\n",
    "\n",
    "'''\n",
    "#######################################################################################\n",
    "##   This function plots the data using the  args and kwargs you've defined above.   ##\n",
    "##   You can modify the inputs \"models,\" legend\", \"vertical,\" \"cat,\" \"box,\"          ##\n",
    "##  \"vertical_spacing\", and \"horizontal_spacing,\" but please don't touch the others. ##\n",
    "#######################################################################################\n",
    "'''\n",
    "\n",
    "plot_dataframe(DATA,     #! Do not modify\n",
    "               args,     #! Do not modify\n",
    "               models = False,\n",
    "               legend = False,\n",
    "               vertical = True,\n",
    "               cat=True,\n",
    "               box=True,\n",
    "               vertical_spacing=0.15,\n",
    "               horizontal_spacing=2.0\n",
    "               )\n",
    "\n",
    "display(Markdown('''<div class=\"alert alert-block alert-success\">This might take quite a few iterations to reach \"publication quality\". Remember that there is no single perfect look and layout for a figure (but there are plenty of wrong ones)! If you are happy with what you've come up with, feel free to email your version to jfarquharson@gs.niigata-u.ac.jp, with the subject line: [VMSG 2024 data visualisation] [Your Name] [Awesome]. You can right-click on the image to copy or save.</div>'''))"
   ]
  },
  {
   "cell_type": "markdown",
   "metadata": {},
   "source": [
    "### End of Part 2"
   ]
  },
  {
   "cell_type": "code",
   "execution_count": null,
   "metadata": {},
   "outputs": [],
   "source": []
  }
 ],
 "metadata": {
  "kernelspec": {
   "display_name": "Python 3",
   "language": "python",
   "name": "python3"
  },
  "language_info": {
   "codemirror_mode": {
    "name": "ipython",
    "version": 3
   },
   "file_extension": ".py",
   "mimetype": "text/x-python",
   "name": "python",
   "nbconvert_exporter": "python",
   "pygments_lexer": "ipython3",
   "version": "3.6.7"
  }
 },
 "nbformat": 4,
 "nbformat_minor": 2
}
