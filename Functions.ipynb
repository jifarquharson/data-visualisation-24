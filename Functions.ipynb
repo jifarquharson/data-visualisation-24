{
 "cells": [
  {
   "cell_type": "code",
   "execution_count": 1,
   "id": "82b99efc",
   "metadata": {},
   "outputs": [],
   "source": [
    "def factorial(n):\n",
    "    if n == 0:\n",
    "        return 1\n",
    "    else:\n",
    "        return n * factorial(n-1)"
   ]
  },
  {
   "cell_type": "code",
   "execution_count": 1,
   "id": "2c21c210",
   "metadata": {},
   "outputs": [],
   "source": [
    "def yourNumber():\n",
    "    seed = input(\"Please input an integer value from 0 to 4294967295: \")\n",
    "    try:\n",
    "        val = int(seed)\n",
    "        try:\n",
    "            assert 0 <= val <= 2**32 - 1\n",
    "            print(\"Your number is {}\".format(seed))\n",
    "            return int(seed)\n",
    "        except:\n",
    "            print(\"Number out of range\")\n",
    "            yourNumber()\n",
    "    except ValueError:\n",
    "        print(\"That's not an integer\")\n",
    "        yourNumber()"
   ]
  },
  {
   "cell_type": "code",
   "execution_count": null,
   "id": "f6b73e84",
   "metadata": {},
   "outputs": [],
   "source": []
  }
 ],
 "metadata": {
  "kernelspec": {
   "display_name": "Python 3",
   "language": "python",
   "name": "python3"
  },
  "language_info": {
   "codemirror_mode": {
    "name": "ipython",
    "version": 3
   },
   "file_extension": ".py",
   "mimetype": "text/x-python",
   "name": "python",
   "nbconvert_exporter": "python",
   "pygments_lexer": "ipython3",
   "version": "3.6.7"
  }
 },
 "nbformat": 4,
 "nbformat_minor": 5
}
