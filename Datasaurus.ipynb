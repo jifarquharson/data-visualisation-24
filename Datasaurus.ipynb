{
 "cells": [
  {
   "cell_type": "markdown",
   "metadata": {},
   "source": [
    "# Introduction to Data Visualisation\n",
    "### VMSG 2024\n",
    "#### Prof. Jamie Farquharson, Niigata University Japan. Email: <jfarquharson@gs.niigata-u.ac.jp>"
   ]
  },
  {
   "cell_type": "markdown",
   "metadata": {},
   "source": [
    "### This is a Jupyter Notebook\n",
    "A `Notebook` is a web application for creating and sharing *computational documents*. It is a very useful environment (often embedded within a   `JupyterLab` environment) for data science, scientific computing, and other applications. We will be using it to read and display data in a variety of formats. The `Notebook` is composed of two main *cell* types: `Markdown` and `Code`. `Markdown` cells contain formatted text. `Code` cells contain executable code, in this case written in `Python`."
   ]
  },
  {
   "cell_type": "markdown",
   "metadata": {},
   "source": [
    "`Code` cells can be executed individually by clicking &rarr;`Run`, or by pressing the `Shift` + `Return` keys. \n",
    "\n",
    "We can use `=` to assign a `value` to a `variable`. Let's try:"
   ]
  },
  {
   "cell_type": "code",
   "execution_count": 497,
   "metadata": {},
   "outputs": [],
   "source": [
    "name = \"\" ### Enter your name between the \" \", and run the cell."
   ]
  },
  {
   "cell_type": "markdown",
   "metadata": {},
   "source": [
    "Nothing obvious happens, but we can now use that `variable` in subsequent `cell` operations. Try running the next `cell`."
   ]
  },
  {
   "cell_type": "code",
   "execution_count": 498,
   "metadata": {},
   "outputs": [
    {
     "name": "stdout",
     "output_type": "stream",
     "text": [
      "Hello ! Welcome to VMSG 2024 🌋\n"
     ]
    }
   ],
   "source": [
    "print('Hello {}! Welcome to VMSG 2024 '.format(name)+u'\\U0001F30B')"
   ]
  },
  {
   "cell_type": "markdown",
   "metadata": {},
   "source": [
    "### A very quick introduction to functions\n",
    "Often, we want to perform a similar operation many times, in which case it is sensible to write a `function`. A function usually takes some `inputs`, performs an operation, and gives some `outputs`. Here is a simple example:"
   ]
  },
  {
   "cell_type": "code",
   "execution_count": 509,
   "metadata": {},
   "outputs": [],
   "source": [
    "def say_hello():\n",
    "    response = input (\"What is your name? \")\n",
    "    print('\\nHello {}! Welcome to VMSG 2024 '.format(str(response))+u'\\U0001F30B')"
   ]
  },
  {
   "cell_type": "markdown",
   "metadata": {},
   "source": [
    "This won't do anything until we call the function, like this:"
   ]
  },
  {
   "cell_type": "code",
   "execution_count": 510,
   "metadata": {},
   "outputs": [
    {
     "name": "stdout",
     "output_type": "stream",
     "text": [
      "What is your name? Jamie\n",
      "\n",
      "Hello Jamie! Welcome to VMSG 2024 🌋\n"
     ]
    }
   ],
   "source": [
    "say_hello()"
   ]
  },
  {
   "cell_type": "markdown",
   "metadata": {},
   "source": [
    "### This is not a `Python` class, so we'll leave it there. When asked, please &rarr;`Run` the relevant `code` cells.\n",
    "So that you don't have to, a series of `functions` have been written and stored in another `Notebook`. Run the following code so that we can access those functions later."
   ]
  },
  {
   "cell_type": "code",
   "execution_count": 513,
   "metadata": {},
   "outputs": [],
   "source": [
    "%run Functions.ipynb     # This is were some relevant functions are stored"
   ]
  },
  {
   "cell_type": "markdown",
   "metadata": {},
   "source": [
    "### Now, please enter a number when prompted by `yourNumber()` ###"
   ]
  },
  {
   "cell_type": "code",
   "execution_count": 518,
   "metadata": {},
   "outputs": [
    {
     "name": "stdout",
     "output_type": "stream",
     "text": [
      "Please input an integer value from 0 to 4294967295: 128\n",
      "Your number is 128\n"
     ]
    }
   ],
   "source": [
    "seed = yourNumber()"
   ]
  },
  {
   "cell_type": "markdown",
   "metadata": {},
   "source": [
    "#### Double-check your number, which is saved as a variable named `seed`:"
   ]
  },
  {
   "cell_type": "code",
   "execution_count": 519,
   "metadata": {},
   "outputs": [
    {
     "data": {
      "text/plain": [
       "128"
      ]
     },
     "execution_count": 519,
     "metadata": {},
     "output_type": "execute_result"
    }
   ],
   "source": [
    "seed"
   ]
  },
  {
   "cell_type": "markdown",
   "metadata": {},
   "source": [
    "#### We can (and will) use this number later, at any time, until it is overwritten (i.e. if you were to assign another value to a variable with the name `seed`)."
   ]
  },
  {
   "cell_type": "markdown",
   "metadata": {},
   "source": [
    "### We will import some packages in order to perform certain operations."
   ]
  },
  {
   "cell_type": "code",
   "execution_count": 540,
   "metadata": {},
   "outputs": [],
   "source": [
    "import pandas as pd\n",
    "import numpy as np\n",
    "import matplotlib.pyplot as plt\n",
    "import matplotlib.colors as mcolors\n",
    "import pprint\n",
    "import warnings\n",
    "warnings.filterwarnings('ignore')\n",
    "from IPython.display import clear_output\n",
    "import time"
   ]
  },
  {
   "cell_type": "code",
   "execution_count": null,
   "metadata": {},
   "outputs": [],
   "source": [
    "import matplotlib.pyplot as plt\n",
    "import pandas as pd\n",
    "import seaborn as sns\n",
    "import numpy as np\n",
    "import warnings\n",
    "warnings.filterwarnings('ignore')\n",
    "from IPython.display import clear_output"
   ]
  },
  {
   "cell_type": "markdown",
   "metadata": {},
   "source": [
    "# Data"
   ]
  },
  {
   "cell_type": "markdown",
   "metadata": {},
   "source": [
    "We can import data from an external file. For example, we have a `tsv` file containing data, called \"DatasaurusDozen-wide.tsv,\" which we can read in to our `Notebook`. We'll read it in to a format called a `DataFrame`, and check the first few lines of the result."
   ]
  },
  {
   "cell_type": "code",
   "execution_count": 528,
   "metadata": {},
   "outputs": [],
   "source": [
    "data = pd.read_csv(\"The Datasaurus Dozen/DatasaurusDozen-wide.tsv\", sep = \"\\t\", header = 0,)# names=['x','y'])\n",
    "data = data.drop([0])\n",
    "data = data.apply(pd.to_numeric).reset_index()"
   ]
  },
  {
   "cell_type": "code",
   "execution_count": 529,
   "metadata": {},
   "outputs": [
    {
     "data": {
      "text/html": [
       "<div>\n",
       "<style scoped>\n",
       "    .dataframe tbody tr th:only-of-type {\n",
       "        vertical-align: middle;\n",
       "    }\n",
       "\n",
       "    .dataframe tbody tr th {\n",
       "        vertical-align: top;\n",
       "    }\n",
       "\n",
       "    .dataframe thead th {\n",
       "        text-align: right;\n",
       "    }\n",
       "</style>\n",
       "<table border=\"1\" class=\"dataframe\">\n",
       "  <thead>\n",
       "    <tr style=\"text-align: right;\">\n",
       "      <th></th>\n",
       "      <th>index</th>\n",
       "      <th>away</th>\n",
       "      <th>away.1</th>\n",
       "      <th>bullseye</th>\n",
       "      <th>bullseye.1</th>\n",
       "      <th>circle</th>\n",
       "      <th>circle.1</th>\n",
       "      <th>dino</th>\n",
       "      <th>dino.1</th>\n",
       "      <th>dots</th>\n",
       "      <th>...</th>\n",
       "      <th>slant_up</th>\n",
       "      <th>slant_up.1</th>\n",
       "      <th>star</th>\n",
       "      <th>star.1</th>\n",
       "      <th>v_lines</th>\n",
       "      <th>v_lines.1</th>\n",
       "      <th>wide_lines</th>\n",
       "      <th>wide_lines.1</th>\n",
       "      <th>x_shape</th>\n",
       "      <th>x_shape.1</th>\n",
       "    </tr>\n",
       "  </thead>\n",
       "  <tbody>\n",
       "    <tr>\n",
       "      <th>0</th>\n",
       "      <td>1</td>\n",
       "      <td>32.331110</td>\n",
       "      <td>61.411101</td>\n",
       "      <td>51.203891</td>\n",
       "      <td>83.339777</td>\n",
       "      <td>55.993030</td>\n",
       "      <td>79.277264</td>\n",
       "      <td>55.3846</td>\n",
       "      <td>97.1795</td>\n",
       "      <td>51.147917</td>\n",
       "      <td>...</td>\n",
       "      <td>47.695201</td>\n",
       "      <td>95.241187</td>\n",
       "      <td>58.213608</td>\n",
       "      <td>91.881892</td>\n",
       "      <td>50.481508</td>\n",
       "      <td>93.222701</td>\n",
       "      <td>65.815540</td>\n",
       "      <td>95.588374</td>\n",
       "      <td>38.337757</td>\n",
       "      <td>92.472719</td>\n",
       "    </tr>\n",
       "    <tr>\n",
       "      <th>1</th>\n",
       "      <td>2</td>\n",
       "      <td>53.421463</td>\n",
       "      <td>26.186880</td>\n",
       "      <td>58.974470</td>\n",
       "      <td>85.499818</td>\n",
       "      <td>50.032254</td>\n",
       "      <td>79.013071</td>\n",
       "      <td>51.5385</td>\n",
       "      <td>96.0256</td>\n",
       "      <td>50.517126</td>\n",
       "      <td>...</td>\n",
       "      <td>44.609976</td>\n",
       "      <td>93.075835</td>\n",
       "      <td>58.196054</td>\n",
       "      <td>92.214989</td>\n",
       "      <td>50.282406</td>\n",
       "      <td>97.609984</td>\n",
       "      <td>65.672265</td>\n",
       "      <td>91.933402</td>\n",
       "      <td>35.751871</td>\n",
       "      <td>94.116768</td>\n",
       "    </tr>\n",
       "    <tr>\n",
       "      <th>2</th>\n",
       "      <td>3</td>\n",
       "      <td>63.920202</td>\n",
       "      <td>30.832194</td>\n",
       "      <td>51.872073</td>\n",
       "      <td>85.829738</td>\n",
       "      <td>51.288459</td>\n",
       "      <td>82.435940</td>\n",
       "      <td>46.1538</td>\n",
       "      <td>94.4872</td>\n",
       "      <td>50.207480</td>\n",
       "      <td>...</td>\n",
       "      <td>43.856381</td>\n",
       "      <td>94.085872</td>\n",
       "      <td>58.718231</td>\n",
       "      <td>90.310532</td>\n",
       "      <td>50.186703</td>\n",
       "      <td>99.694680</td>\n",
       "      <td>39.002716</td>\n",
       "      <td>92.261838</td>\n",
       "      <td>32.767218</td>\n",
       "      <td>88.518295</td>\n",
       "    </tr>\n",
       "    <tr>\n",
       "      <th>3</th>\n",
       "      <td>4</td>\n",
       "      <td>70.289506</td>\n",
       "      <td>82.533649</td>\n",
       "      <td>48.179931</td>\n",
       "      <td>85.045117</td>\n",
       "      <td>51.170537</td>\n",
       "      <td>79.165294</td>\n",
       "      <td>42.8205</td>\n",
       "      <td>91.4103</td>\n",
       "      <td>50.069482</td>\n",
       "      <td>...</td>\n",
       "      <td>41.578929</td>\n",
       "      <td>90.303567</td>\n",
       "      <td>57.278373</td>\n",
       "      <td>89.907607</td>\n",
       "      <td>50.326911</td>\n",
       "      <td>90.022053</td>\n",
       "      <td>37.795303</td>\n",
       "      <td>93.532455</td>\n",
       "      <td>33.729607</td>\n",
       "      <td>88.622266</td>\n",
       "    </tr>\n",
       "    <tr>\n",
       "      <th>4</th>\n",
       "      <td>5</td>\n",
       "      <td>34.118830</td>\n",
       "      <td>45.734551</td>\n",
       "      <td>41.683200</td>\n",
       "      <td>84.017941</td>\n",
       "      <td>44.377915</td>\n",
       "      <td>78.164628</td>\n",
       "      <td>40.7692</td>\n",
       "      <td>88.3333</td>\n",
       "      <td>50.562846</td>\n",
       "      <td>...</td>\n",
       "      <td>49.177419</td>\n",
       "      <td>96.610532</td>\n",
       "      <td>58.082020</td>\n",
       "      <td>92.008145</td>\n",
       "      <td>50.456207</td>\n",
       "      <td>89.987410</td>\n",
       "      <td>35.513901</td>\n",
       "      <td>89.599190</td>\n",
       "      <td>37.238249</td>\n",
       "      <td>83.724928</td>\n",
       "    </tr>\n",
       "  </tbody>\n",
       "</table>\n",
       "<p>5 rows × 27 columns</p>\n",
       "</div>"
      ],
      "text/plain": [
       "   index       away     away.1   bullseye  bullseye.1     circle   circle.1  \\\n",
       "0      1  32.331110  61.411101  51.203891   83.339777  55.993030  79.277264   \n",
       "1      2  53.421463  26.186880  58.974470   85.499818  50.032254  79.013071   \n",
       "2      3  63.920202  30.832194  51.872073   85.829738  51.288459  82.435940   \n",
       "3      4  70.289506  82.533649  48.179931   85.045117  51.170537  79.165294   \n",
       "4      5  34.118830  45.734551  41.683200   84.017941  44.377915  78.164628   \n",
       "\n",
       "      dino   dino.1       dots  ...   slant_up  slant_up.1       star  \\\n",
       "0  55.3846  97.1795  51.147917  ...  47.695201   95.241187  58.213608   \n",
       "1  51.5385  96.0256  50.517126  ...  44.609976   93.075835  58.196054   \n",
       "2  46.1538  94.4872  50.207480  ...  43.856381   94.085872  58.718231   \n",
       "3  42.8205  91.4103  50.069482  ...  41.578929   90.303567  57.278373   \n",
       "4  40.7692  88.3333  50.562846  ...  49.177419   96.610532  58.082020   \n",
       "\n",
       "      star.1    v_lines  v_lines.1  wide_lines  wide_lines.1    x_shape  \\\n",
       "0  91.881892  50.481508  93.222701   65.815540     95.588374  38.337757   \n",
       "1  92.214989  50.282406  97.609984   65.672265     91.933402  35.751871   \n",
       "2  90.310532  50.186703  99.694680   39.002716     92.261838  32.767218   \n",
       "3  89.907607  50.326911  90.022053   37.795303     93.532455  33.729607   \n",
       "4  92.008145  50.456207  89.987410   35.513901     89.599190  37.238249   \n",
       "\n",
       "   x_shape.1  \n",
       "0  92.472719  \n",
       "1  94.116768  \n",
       "2  88.518295  \n",
       "3  88.622266  \n",
       "4  83.724928  \n",
       "\n",
       "[5 rows x 27 columns]"
      ]
     },
     "execution_count": 529,
     "metadata": {},
     "output_type": "execute_result"
    }
   ],
   "source": [
    "data.head()"
   ]
  },
  {
   "cell_type": "markdown",
   "metadata": {},
   "source": [
    "Now we can plot these data, if we want. Perhaps as **Histograms**:"
   ]
  },
  {
   "cell_type": "code",
   "execution_count": 557,
   "metadata": {},
   "outputs": [
    {
     "data": {
      "image/png": "[encoded data removed]",
      "text/plain": [
       "<Figure size 432x288 with 1 Axes>"
      ]
     },
     "metadata": {
      "needs_background": "light"
     },
     "output_type": "display_data"
    }
   ],
   "source": [
    "plt.hist(data['dino'],bins = np.linspace(0,101,20), alpha = 0.5)\n",
    "plt.hist(data['dino.1'],bins = np.linspace(0,101,20),  alpha = 0.5)\n",
    "plt.show()"
   ]
  },
  {
   "cell_type": "markdown",
   "metadata": {},
   "source": [
    "Perhaps as a line chart:"
   ]
  },
  {
   "cell_type": "code",
   "execution_count": 558,
   "metadata": {},
   "outputs": [
    {
     "data": {
      "image/png": "[encoded data removed]",
      "text/plain": [
       "<Figure size 432x288 with 1 Axes>"
      ]
     },
     "metadata": {
      "needs_background": "light"
     },
     "output_type": "display_data"
    }
   ],
   "source": [
    "plt.plot(data['dino'])\n",
    "plt.plot(data['dino.1'])\n",
    "plt.show()"
   ]
  },
  {
   "cell_type": "markdown",
   "metadata": {},
   "source": [
    "Or perhaps as a scatterplot:"
   ]
  },
  {
   "cell_type": "code",
   "execution_count": 561,
   "metadata": {},
   "outputs": [
    {
     "data": {
      "image/png": "[encoded data removed]",
      "text/plain": [
       "<Figure size 400x400 with 1 Axes>"
      ]
     },
     "metadata": {
      "needs_background": "light"
     },
     "output_type": "display_data"
    },
    {
     "name": "stdout",
     "output_type": "stream",
     "text": [
      "Nice.\n"
     ]
    }
   ],
   "source": [
    "for i in range(20):\n",
    "    plt.figure(1, figsize=(4,4), frameon=True, dpi = 100)\n",
    "    clear_output(wait=True)\n",
    "    plt.scatter(data['dino'], data['dino.1'], marker=\".\",\\\n",
    "               c=np.random.rand(3,).reshape(1,-1))\n",
    "    time.sleep(.5)\n",
    "    plt.show()\n",
    "print(\"Nice.\")"
   ]
  },
  {
   "cell_type": "code",
   "execution_count": null,
   "metadata": {},
   "outputs": [],
   "source": [
    "### For the next exercise"
   ]
  },
  {
   "cell_type": "code",
   "execution_count": null,
   "metadata": {},
   "outputs": [],
   "source": [
    "What are different types of data?\n",
    "Discrete\n",
    "Continuous\n",
    "Survey\n",
    "Observational\n",
    "Geographic\n",
    "Network"
   ]
  },
  {
   "cell_type": "code",
   "execution_count": null,
   "metadata": {},
   "outputs": [],
   "source": [
    "There are many different kinds of data, and the kind of data visualisation we employ depends "
   ]
  },
  {
   "cell_type": "code",
   "execution_count": null,
   "metadata": {},
   "outputs": [],
   "source": []
  },
  {
   "cell_type": "code",
   "execution_count": 11,
   "metadata": {},
   "outputs": [
    {
     "data": {
      "image/png": "[encoded data removed]",
      "text/plain": [
       "<Figure size 432x288 with 1 Axes>"
      ]
     },
     "metadata": {
      "needs_background": "light"
     },
     "output_type": "display_data"
    }
   ],
   "source": [
    "# generate some data\n",
    "x = [1, 2, 3, 4, 5]\n",
    "y = [10, 20, 30, 40, 50]\n",
    "# create the line plot\n",
    "plt.plot(x, y)\n",
    "# add a title and labels for the x and y axes\n",
    "plt.title('Line Plot')\n",
    "plt.xlabel('X Axis')\n",
    "plt.ylabel('Y Axis')\n",
    "# show the plot\n",
    "plt.show()"
   ]
  },
  {
   "cell_type": "code",
   "execution_count": 12,
   "metadata": {},
   "outputs": [
    {
     "data": {
      "image/png": "[encoded data removed]",
      "text/plain": [
       "<Figure size 432x288 with 1 Axes>"
      ]
     },
     "metadata": {
      "needs_background": "light"
     },
     "output_type": "display_data"
    }
   ],
   "source": [
    "plt.scatter(x, y)\n",
    "# add a title and labels for the x and y axes\n",
    "plt.title('Scatter Plot')\n",
    "plt.xlabel('X Axis')\n",
    "plt.ylabel('Y Axis')\n",
    "# show the plot\n",
    "plt.show()\n"
   ]
  },
  {
   "cell_type": "code",
   "execution_count": 13,
   "metadata": {},
   "outputs": [
    {
     "data": {
      "image/png": "[encoded data removed]",
      "text/plain": [
       "<Figure size 432x288 with 1 Axes>"
      ]
     },
     "metadata": {
      "needs_background": "light"
     },
     "output_type": "display_data"
    }
   ],
   "source": [
    "# create the bar plot\n",
    "plt.bar(x, y)\n",
    "# add a title and labels for the x and y axes\n",
    "plt.title('Bar Plot')\n",
    "plt.xlabel('X Axis')\n",
    "plt.ylabel('Y Axis')\n",
    "# show the plot\n",
    "plt.show()"
   ]
  },
  {
   "cell_type": "code",
   "execution_count": 14,
   "metadata": {},
   "outputs": [
    {
     "data": {
      "image/png": "[encoded data removed]",
      "text/plain": [
       "<Figure size 432x288 with 1 Axes>"
      ]
     },
     "metadata": {
      "needs_background": "light"
     },
     "output_type": "display_data"
    }
   ],
   "source": [
    "# generate some data\n",
    "data = [1, 2, 3, 4, 5, 1, 2, 3, 4, 5, 1, 2, 3, 4, 5]\n",
    "# create the histogram\n",
    "plt.hist(data)\n",
    "# add a title and labels for the x and y axes\n",
    "plt.title('Histogram')\n",
    "plt.xlabel('X Axis')\n",
    "plt.ylabel('Y Axis')\n",
    "# show the plot\n",
    "plt.show()\n"
   ]
  },
  {
   "cell_type": "code",
   "execution_count": null,
   "metadata": {},
   "outputs": [],
   "source": []
  },
  {
   "cell_type": "code",
   "execution_count": 52,
   "metadata": {},
   "outputs": [
    {
     "name": "stdout",
     "output_type": "stream",
     "text": [
      "What would you like to show?\n"
     ]
    },
    {
     "data": {
      "application/vnd.jupyter.widget-view+json": {
       "model_id": "bbef6a8ac13744a082a028551af62d31",
       "version_major": 2,
       "version_minor": 0
      },
      "text/plain": [
       "Dropdown(description='function', options=(('Comparison', 1), ('Distribution', 2), ('Relationship', 3), ('Compo…"
      ]
     },
     "metadata": {},
     "output_type": "display_data"
    }
   ],
   "source": [
    "from ipywidgets import widgets\n",
    "\n",
    "function = widgets.Dropdown(\n",
    "    options=[('Comparison',1), ('Distribution',2), ('Relationship',3), ('Composition',4)], \n",
    "    value=1,\n",
    "    description='function')\n",
    "\n",
    "\n",
    "\n",
    "print(\"What would you like to show?\")\n",
    "function"
   ]
  },
  {
   "cell_type": "code",
   "execution_count": 57,
   "metadata": {},
   "outputs": [
    {
     "name": "stdout",
     "output_type": "stream",
     "text": [
      "Between things, or over time?\n"
     ]
    },
    {
     "data": {
      "application/vnd.jupyter.widget-view+json": {
       "model_id": "181f31eef7c04731aa119a3a010fa28b",
       "version_major": 2,
       "version_minor": 0
      },
      "text/plain": [
       "Dropdown(description='function2', options=(('Between things', 1), ('Over time', 2)), value=1)"
      ]
     },
     "metadata": {},
     "output_type": "display_data"
    }
   ],
   "source": [
    "if function.value==2:\n",
    "    print(\"Between things, or over time?\")\n",
    "    function2 = widgets.Dropdown(\n",
    "        options=[('Between things',1), ('Over time',2)], \n",
    "        value=1,\n",
    "        description='function2')\n",
    "function2"
   ]
  },
  {
   "cell_type": "code",
   "execution_count": 60,
   "metadata": {},
   "outputs": [
    {
     "data": {
      "text/plain": [
       "<bound method HasTraits.observe of Dropdown(description='function', index=1, options=(('Comparison', 1), ('Distribution', 2), ('Relationship', 3), ('Composition', 4)), value=2)>"
      ]
     },
     "execution_count": 60,
     "metadata": {},
     "output_type": "execute_result"
    }
   ],
   "source": [
    "# function2.options, \n",
    "function.observe"
   ]
  },
  {
   "cell_type": "code",
   "execution_count": 35,
   "metadata": {},
   "outputs": [],
   "source": [
    "df = pd.DataFrame([['a1','a2','a3'],\n",
    "             ['b1','b2','b3'],\n",
    "             ['c1','c2','c3']], index = ['a','b','c']).transpose()"
   ]
  },
  {
   "cell_type": "code",
   "execution_count": 41,
   "metadata": {},
   "outputs": [
    {
     "data": {
      "application/vnd.jupyter.widget-view+json": {
       "model_id": "9f59781df206414485ab7bf6adb79bdf",
       "version_major": 2,
       "version_minor": 0
      },
      "text/plain": [
       "interactive(children=(Output(),), _dom_classes=('widget-interact',))"
      ]
     },
     "metadata": {},
     "output_type": "display_data"
    }
   ],
   "source": [
    "x_widget = widgets.Dropdown(options = ['a','b','c'])\n",
    "y_widget = widgets.Dropdown()\n",
    "\n",
    "# Define a function that updates the content of y based on what we select for x\n",
    "def update(*args):\n",
    "    y_widget.options = df[x_widget.value].unique().tolist()\n",
    "x_widget.observe(update)\n",
    "\n",
    "# Some function you want executed\n",
    "def random_function():\n",
    "    print(\"hello\")\n",
    "\n",
    "widgets.interact(random_function,\n",
    "         x = x_widget,\n",
    "         y = y_widget);"
   ]
  },
  {
   "cell_type": "code",
   "execution_count": 42,
   "metadata": {},
   "outputs": [
    {
     "data": {
      "application/vnd.jupyter.widget-view+json": {
       "model_id": "38747c2b22114966aa79994a974a2dba",
       "version_major": 2,
       "version_minor": 0
      },
      "text/plain": [
       "Dropdown(options=('a', 'b', 'c'), value='a')"
      ]
     },
     "metadata": {},
     "output_type": "display_data"
    }
   ],
   "source": [
    "x_widget"
   ]
  },
  {
   "cell_type": "code",
   "execution_count": 43,
   "metadata": {},
   "outputs": [
    {
     "data": {
      "application/vnd.jupyter.widget-view+json": {
       "model_id": "28597b8c6b0744ef841e3eba9ed396c6",
       "version_major": 2,
       "version_minor": 0
      },
      "text/plain": [
       "Dropdown(options=(), value=None)"
      ]
     },
     "metadata": {},
     "output_type": "display_data"
    }
   ],
   "source": [
    "y_widget"
   ]
  },
  {
   "cell_type": "code",
   "execution_count": null,
   "metadata": {},
   "outputs": [],
   "source": [
    "def interaction():\n",
    "    geo = {'Comparison':['Between items','Over time'],'Distribution':['MOW','LED'],\n",
    "      'Relationship':['MOW','LED'], 'Composition':['MOW','LED']}\n",
    "    firstW = Dropdown(options = geo.keys())\n",
    "    itemW = Dropdown(options = geo[firstW.value]) # options = geo[countryW.value] is to remove inital error but not that necessary.\n",
    "    varW = Dropdown(options = geo2[itemW.value])\n",
    "    nextW = Dropdown()\n",
    "\n",
    "    @interact(first = firstW, second = itemW, numVar = varW, nxt = nextW)\n",
    "        itemW.options = geo[first] # Here is the trick, i.e. update cityW.options based on country, namely countryW.value.\n",
    "    varW.options = geo2[second] # Ditto\n",
    "    nextW.options = geo3[numVar]"
   ]
  },
  {
   "cell_type": "code",
   "execution_count": 75,
   "metadata": {},
   "outputs": [
    {
     "data": {
      "application/vnd.jupyter.widget-view+json": {
       "model_id": "2766f2d86a0f43b1b7cd841beaf7211c",
       "version_major": 2,
       "version_minor": 0
      },
      "text/plain": [
       "interactive(children=(Dropdown(description='first', options=('Comparison', 'Distribution', 'Relationship', 'Co…"
      ]
     },
     "metadata": {},
     "output_type": "display_data"
    }
   ],
   "source": [
    "from ipywidgets import interact, Dropdown\n",
    "\n",
    "geo = {'Comparison':['Between items','Over time'],'Distribution':['MOW','LED'],\n",
    "      'Relationship':['MOW','LED'], 'Composition':['MOW','LED']}\n",
    "geo2={'Between items':['2 variables per item','1 variable per item'],\n",
    "      'NYC':['3','4'],'MOW':['5','6'],'LED':['7','8']}\n",
    "geo3 = {'2 variables per item': [\"Variable width column chart\"],\n",
    "        '1 variable per item': [\"Many categories\", \"Few categories\"]}\n",
    "\n",
    "firstW = Dropdown(options = geo.keys())\n",
    "itemW = Dropdown(options = geo[firstW.value]) # options = geo[countryW.value] is to remove inital error but not that necessary.\n",
    "varW = Dropdown(options = geo2[itemW.value])\n",
    "nextW = Dropdown()\n",
    "\n",
    "@interact(first = firstW, second = itemW, numVar = varW, nxt = nextW)\n",
    "def print_city(first, second, numVar, nxt):\n",
    "    itemW.options = geo[first] # Here is the trick, i.e. update cityW.options based on country, namely countryW.value.\n",
    "    varW.options = geo2[second] # Ditto\n",
    "    nextW.options = geo3[numVar]\n",
    "    print(first, second, numVar, nxt)\n"
   ]
  },
  {
   "cell_type": "code",
   "execution_count": null,
   "metadata": {},
   "outputs": [],
   "source": []
  },
  {
   "cell_type": "code",
   "execution_count": 102,
   "metadata": {},
   "outputs": [
    {
     "data": {
      "text/plain": [
       "<function __main__.print_city(first, second, numVar, nxt)>"
      ]
     },
     "execution_count": 102,
     "metadata": {},
     "output_type": "execute_result"
    }
   ],
   "source": [
    "print_city"
   ]
  },
  {
   "cell_type": "code",
   "execution_count": 96,
   "metadata": {},
   "outputs": [],
   "source": [
    "def user_input(inp=1):\n",
    "    inp = input (\"What do you want to show?\\n'1' Comparison\\n'2' Distribution\\n'3 Composition'\\n'4' Relationship\\n \" )\n",
    "    print(inp)\n",
    "    if inp ==1:\n",
    "        inp2 = input(\"'1' Between things\\n'2' Over time\")"
   ]
  },
  {
   "cell_type": "code",
   "execution_count": 97,
   "metadata": {},
   "outputs": [
    {
     "name": "stdout",
     "output_type": "stream",
     "text": [
      "What do you want to show?\n",
      "'1' Comparison\n",
      "'2' Distribution\n",
      "'3 Composition'\n",
      "'4' Relationship\n",
      " 1\n",
      "1\n"
     ]
    }
   ],
   "source": [
    "user_input()"
   ]
  },
  {
   "cell_type": "code",
   "execution_count": 100,
   "metadata": {
    "scrolled": true
   },
   "outputs": [
    {
     "name": "stdout",
     "output_type": "stream",
     "text": [
      "\u001b[J\n",
      "\u001b[A\u001b[K\u001b[m[\u001b[33m?\u001b[m]\u001b[m What do you want to show?: Comparison\n",
      " \u001b[34m> Comparison\u001b[m\u001b[K\n",
      " \u001b[m  Distribution\u001b[m\u001b[K\n",
      " \u001b[m  Relationship\u001b[m\u001b[K\n",
      " \u001b[m  Composition\u001b[m\u001b[K\n",
      "\n"
     ]
    },
    {
     "ename": "error",
     "evalue": "(25, 'Inappropriate ioctl for device')",
     "output_type": "error",
     "traceback": [
      "\u001b[0;31m---------------------------------------------------------------------------\u001b[0m",
      "\u001b[0;31merror\u001b[0m                                     Traceback (most recent call last)",
      "\u001b[0;32m<ipython-input-100-2b94c05d5b7d>\u001b[0m in \u001b[0;36m<module>\u001b[0;34m\u001b[0m\n\u001b[1;32m      6\u001b[0m             ),\n\u001b[1;32m      7\u001b[0m ]\n\u001b[0;32m----> 8\u001b[0;31m \u001b[0manswers\u001b[0m \u001b[0;34m=\u001b[0m \u001b[0minquirer\u001b[0m\u001b[0;34m.\u001b[0m\u001b[0mprompt\u001b[0m\u001b[0;34m(\u001b[0m\u001b[0mquestions\u001b[0m\u001b[0;34m)\u001b[0m\u001b[0;34m\u001b[0m\u001b[0;34m\u001b[0m\u001b[0m\n\u001b[0m\u001b[1;32m      9\u001b[0m \u001b[0;31m# print(answers[\"toShow\"])\u001b[0m\u001b[0;34m\u001b[0m\u001b[0;34m\u001b[0m\u001b[0;34m\u001b[0m\u001b[0m\n",
      "\u001b[0;32m~/python/anaconda3/lib/python3.6/site-packages/inquirer/prompt.py\u001b[0m in \u001b[0;36mprompt\u001b[0;34m(questions, render, answers, theme, raise_keyboard_interrupt)\u001b[0m\n\u001b[1;32m     11\u001b[0m     \u001b[0;32mtry\u001b[0m\u001b[0;34m:\u001b[0m\u001b[0;34m\u001b[0m\u001b[0;34m\u001b[0m\u001b[0m\n\u001b[1;32m     12\u001b[0m         \u001b[0;32mfor\u001b[0m \u001b[0mquestion\u001b[0m \u001b[0;32min\u001b[0m \u001b[0mquestions\u001b[0m\u001b[0;34m:\u001b[0m\u001b[0;34m\u001b[0m\u001b[0;34m\u001b[0m\u001b[0m\n\u001b[0;32m---> 13\u001b[0;31m             \u001b[0manswers\u001b[0m\u001b[0;34m[\u001b[0m\u001b[0mquestion\u001b[0m\u001b[0;34m.\u001b[0m\u001b[0mname\u001b[0m\u001b[0;34m]\u001b[0m \u001b[0;34m=\u001b[0m \u001b[0mrender\u001b[0m\u001b[0;34m.\u001b[0m\u001b[0mrender\u001b[0m\u001b[0;34m(\u001b[0m\u001b[0mquestion\u001b[0m\u001b[0;34m,\u001b[0m \u001b[0manswers\u001b[0m\u001b[0;34m)\u001b[0m\u001b[0;34m\u001b[0m\u001b[0;34m\u001b[0m\u001b[0m\n\u001b[0m\u001b[1;32m     14\u001b[0m         \u001b[0;32mreturn\u001b[0m \u001b[0manswers\u001b[0m\u001b[0;34m\u001b[0m\u001b[0;34m\u001b[0m\u001b[0m\n\u001b[1;32m     15\u001b[0m     \u001b[0;32mexcept\u001b[0m \u001b[0mKeyboardInterrupt\u001b[0m\u001b[0;34m:\u001b[0m\u001b[0;34m\u001b[0m\u001b[0;34m\u001b[0m\u001b[0m\n",
      "\u001b[0;32m~/python/anaconda3/lib/python3.6/site-packages/inquirer/render/console/__init__.py\u001b[0m in \u001b[0;36mrender\u001b[0;34m(self, question, answers)\u001b[0m\n\u001b[1;32m     39\u001b[0m \u001b[0;34m\u001b[0m\u001b[0m\n\u001b[1;32m     40\u001b[0m         \u001b[0;32mtry\u001b[0m\u001b[0;34m:\u001b[0m\u001b[0;34m\u001b[0m\u001b[0;34m\u001b[0m\u001b[0m\n\u001b[0;32m---> 41\u001b[0;31m             \u001b[0;32mreturn\u001b[0m \u001b[0mself\u001b[0m\u001b[0;34m.\u001b[0m\u001b[0m_event_loop\u001b[0m\u001b[0;34m(\u001b[0m\u001b[0mrender\u001b[0m\u001b[0;34m)\u001b[0m\u001b[0;34m\u001b[0m\u001b[0;34m\u001b[0m\u001b[0m\n\u001b[0m\u001b[1;32m     42\u001b[0m         \u001b[0;32mfinally\u001b[0m\u001b[0;34m:\u001b[0m\u001b[0;34m\u001b[0m\u001b[0;34m\u001b[0m\u001b[0m\n\u001b[1;32m     43\u001b[0m             \u001b[0mprint\u001b[0m\u001b[0;34m(\u001b[0m\u001b[0;34m\"\"\u001b[0m\u001b[0;34m)\u001b[0m\u001b[0;34m\u001b[0m\u001b[0;34m\u001b[0m\u001b[0m\n",
      "\u001b[0;32m~/python/anaconda3/lib/python3.6/site-packages/inquirer/render/console/__init__.py\u001b[0m in \u001b[0;36m_event_loop\u001b[0;34m(self, render)\u001b[0m\n\u001b[1;32m     52\u001b[0m                 \u001b[0mself\u001b[0m\u001b[0;34m.\u001b[0m\u001b[0m_print_options\u001b[0m\u001b[0;34m(\u001b[0m\u001b[0mrender\u001b[0m\u001b[0;34m)\u001b[0m\u001b[0;34m\u001b[0m\u001b[0;34m\u001b[0m\u001b[0m\n\u001b[1;32m     53\u001b[0m \u001b[0;34m\u001b[0m\u001b[0m\n\u001b[0;32m---> 54\u001b[0;31m                 \u001b[0mself\u001b[0m\u001b[0;34m.\u001b[0m\u001b[0m_process_input\u001b[0m\u001b[0;34m(\u001b[0m\u001b[0mrender\u001b[0m\u001b[0;34m)\u001b[0m\u001b[0;34m\u001b[0m\u001b[0;34m\u001b[0m\u001b[0m\n\u001b[0m\u001b[1;32m     55\u001b[0m                 \u001b[0mself\u001b[0m\u001b[0;34m.\u001b[0m\u001b[0m_force_initial_column\u001b[0m\u001b[0;34m(\u001b[0m\u001b[0;34m)\u001b[0m\u001b[0;34m\u001b[0m\u001b[0;34m\u001b[0m\u001b[0m\n\u001b[1;32m     56\u001b[0m         \u001b[0;32mexcept\u001b[0m \u001b[0merrors\u001b[0m\u001b[0;34m.\u001b[0m\u001b[0mEndOfInput\u001b[0m \u001b[0;32mas\u001b[0m \u001b[0me\u001b[0m\u001b[0;34m:\u001b[0m\u001b[0;34m\u001b[0m\u001b[0;34m\u001b[0m\u001b[0m\n",
      "\u001b[0;32m~/python/anaconda3/lib/python3.6/site-packages/inquirer/render/console/__init__.py\u001b[0m in \u001b[0;36m_process_input\u001b[0;34m(self, render)\u001b[0m\n\u001b[1;32m     96\u001b[0m     \u001b[0;32mdef\u001b[0m \u001b[0m_process_input\u001b[0m\u001b[0;34m(\u001b[0m\u001b[0mself\u001b[0m\u001b[0;34m,\u001b[0m \u001b[0mrender\u001b[0m\u001b[0;34m)\u001b[0m\u001b[0;34m:\u001b[0m\u001b[0;34m\u001b[0m\u001b[0;34m\u001b[0m\u001b[0m\n\u001b[1;32m     97\u001b[0m         \u001b[0;32mtry\u001b[0m\u001b[0;34m:\u001b[0m\u001b[0;34m\u001b[0m\u001b[0;34m\u001b[0m\u001b[0m\n\u001b[0;32m---> 98\u001b[0;31m             \u001b[0mev\u001b[0m \u001b[0;34m=\u001b[0m \u001b[0mself\u001b[0m\u001b[0;34m.\u001b[0m\u001b[0m_event_gen\u001b[0m\u001b[0;34m.\u001b[0m\u001b[0mnext\u001b[0m\u001b[0;34m(\u001b[0m\u001b[0;34m)\u001b[0m\u001b[0;34m\u001b[0m\u001b[0;34m\u001b[0m\u001b[0m\n\u001b[0m\u001b[1;32m     99\u001b[0m             \u001b[0;32mif\u001b[0m \u001b[0misinstance\u001b[0m\u001b[0;34m(\u001b[0m\u001b[0mev\u001b[0m\u001b[0;34m,\u001b[0m \u001b[0mevents\u001b[0m\u001b[0;34m.\u001b[0m\u001b[0mKeyPressed\u001b[0m\u001b[0;34m)\u001b[0m\u001b[0;34m:\u001b[0m\u001b[0;34m\u001b[0m\u001b[0;34m\u001b[0m\u001b[0m\n\u001b[1;32m    100\u001b[0m                 \u001b[0mrender\u001b[0m\u001b[0;34m.\u001b[0m\u001b[0mprocess_input\u001b[0m\u001b[0;34m(\u001b[0m\u001b[0mev\u001b[0m\u001b[0;34m.\u001b[0m\u001b[0mvalue\u001b[0m\u001b[0;34m)\u001b[0m\u001b[0;34m\u001b[0m\u001b[0;34m\u001b[0m\u001b[0m\n",
      "\u001b[0;32m~/python/anaconda3/lib/python3.6/site-packages/inquirer/events.py\u001b[0m in \u001b[0;36mnext\u001b[0;34m(self)\u001b[0m\n\u001b[1;32m     20\u001b[0m \u001b[0;34m\u001b[0m\u001b[0m\n\u001b[1;32m     21\u001b[0m     \u001b[0;32mdef\u001b[0m \u001b[0mnext\u001b[0m\u001b[0;34m(\u001b[0m\u001b[0mself\u001b[0m\u001b[0;34m)\u001b[0m\u001b[0;34m:\u001b[0m\u001b[0;34m\u001b[0m\u001b[0;34m\u001b[0m\u001b[0m\n\u001b[0;32m---> 22\u001b[0;31m         \u001b[0;32mreturn\u001b[0m \u001b[0mKeyPressed\u001b[0m\u001b[0;34m(\u001b[0m\u001b[0mself\u001b[0m\u001b[0;34m.\u001b[0m\u001b[0m_key_gen\u001b[0m\u001b[0;34m(\u001b[0m\u001b[0;34m)\u001b[0m\u001b[0;34m)\u001b[0m\u001b[0;34m\u001b[0m\u001b[0;34m\u001b[0m\u001b[0m\n\u001b[0m",
      "\u001b[0;32m~/python/anaconda3/lib/python3.6/site-packages/readchar/readchar.py\u001b[0m in \u001b[0;36mreadkey\u001b[0;34m(getchar_fn)\u001b[0m\n\u001b[1;32m     86\u001b[0m     \u001b[0;32mdef\u001b[0m \u001b[0mreadkey\u001b[0m\u001b[0;34m(\u001b[0m\u001b[0mgetchar_fn\u001b[0m\u001b[0;34m=\u001b[0m\u001b[0;32mNone\u001b[0m\u001b[0;34m)\u001b[0m\u001b[0;34m:\u001b[0m\u001b[0;34m\u001b[0m\u001b[0;34m\u001b[0m\u001b[0m\n\u001b[1;32m     87\u001b[0m         \u001b[0mgetchar\u001b[0m \u001b[0;34m=\u001b[0m \u001b[0mgetchar_fn\u001b[0m \u001b[0;32mor\u001b[0m \u001b[0mreadchar\u001b[0m\u001b[0;34m\u001b[0m\u001b[0;34m\u001b[0m\u001b[0m\n\u001b[0;32m---> 88\u001b[0;31m         \u001b[0mc1\u001b[0m \u001b[0;34m=\u001b[0m \u001b[0mgetchar\u001b[0m\u001b[0;34m(\u001b[0m\u001b[0;34m)\u001b[0m\u001b[0;34m\u001b[0m\u001b[0;34m\u001b[0m\u001b[0m\n\u001b[0m\u001b[1;32m     89\u001b[0m         \u001b[0;32mif\u001b[0m \u001b[0mord\u001b[0m\u001b[0;34m(\u001b[0m\u001b[0mc1\u001b[0m\u001b[0;34m)\u001b[0m \u001b[0;34m!=\u001b[0m \u001b[0;36m0x1b\u001b[0m\u001b[0;34m:\u001b[0m\u001b[0;34m\u001b[0m\u001b[0;34m\u001b[0m\u001b[0m\n\u001b[1;32m     90\u001b[0m             \u001b[0;32mreturn\u001b[0m \u001b[0mc1\u001b[0m\u001b[0;34m\u001b[0m\u001b[0;34m\u001b[0m\u001b[0m\n",
      "\u001b[0;32m~/python/anaconda3/lib/python3.6/site-packages/readchar/readchar_linux.py\u001b[0m in \u001b[0;36mreadchar\u001b[0;34m()\u001b[0m\n\u001b[1;32m     10\u001b[0m \u001b[0;32mdef\u001b[0m \u001b[0mreadchar\u001b[0m\u001b[0;34m(\u001b[0m\u001b[0;34m)\u001b[0m\u001b[0;34m:\u001b[0m\u001b[0;34m\u001b[0m\u001b[0;34m\u001b[0m\u001b[0m\n\u001b[1;32m     11\u001b[0m     \u001b[0mfd\u001b[0m \u001b[0;34m=\u001b[0m \u001b[0msys\u001b[0m\u001b[0;34m.\u001b[0m\u001b[0mstdin\u001b[0m\u001b[0;34m.\u001b[0m\u001b[0mfileno\u001b[0m\u001b[0;34m(\u001b[0m\u001b[0;34m)\u001b[0m\u001b[0;34m\u001b[0m\u001b[0;34m\u001b[0m\u001b[0m\n\u001b[0;32m---> 12\u001b[0;31m     \u001b[0mold_settings\u001b[0m \u001b[0;34m=\u001b[0m \u001b[0mtermios\u001b[0m\u001b[0;34m.\u001b[0m\u001b[0mtcgetattr\u001b[0m\u001b[0;34m(\u001b[0m\u001b[0mfd\u001b[0m\u001b[0;34m)\u001b[0m\u001b[0;34m\u001b[0m\u001b[0;34m\u001b[0m\u001b[0m\n\u001b[0m\u001b[1;32m     13\u001b[0m     \u001b[0;32mtry\u001b[0m\u001b[0;34m:\u001b[0m\u001b[0;34m\u001b[0m\u001b[0;34m\u001b[0m\u001b[0m\n\u001b[1;32m     14\u001b[0m         \u001b[0mtty\u001b[0m\u001b[0;34m.\u001b[0m\u001b[0msetraw\u001b[0m\u001b[0;34m(\u001b[0m\u001b[0msys\u001b[0m\u001b[0;34m.\u001b[0m\u001b[0mstdin\u001b[0m\u001b[0;34m.\u001b[0m\u001b[0mfileno\u001b[0m\u001b[0;34m(\u001b[0m\u001b[0;34m)\u001b[0m\u001b[0;34m)\u001b[0m\u001b[0;34m\u001b[0m\u001b[0;34m\u001b[0m\u001b[0m\n",
      "\u001b[0;31merror\u001b[0m: (25, 'Inappropriate ioctl for device')"
     ]
    }
   ],
   "source": [
    "import inquirer\n",
    "questions = [\n",
    "  inquirer.List('toShow',\n",
    "                message=\"What do you want to show?\",\n",
    "                choices=['Comparison', 'Distribution', 'Relationship', 'Composition'],\n",
    "            ),\n",
    "]\n",
    "answers = inquirer.prompt(questions)\n",
    "# print(answers[\"toShow\"])"
   ]
  },
  {
   "cell_type": "code",
   "execution_count": null,
   "metadata": {},
   "outputs": [],
   "source": []
  },
  {
   "cell_type": "code",
   "execution_count": 25,
   "metadata": {},
   "outputs": [],
   "source": [
    "%run Functions.ipynb     #this is were my function was stored\n"
   ]
  },
  {
   "cell_type": "code",
   "execution_count": 29,
   "metadata": {},
   "outputs": [
    {
     "data": {
      "text/plain": [
       "1"
      ]
     },
     "execution_count": 29,
     "metadata": {},
     "output_type": "execute_result"
    }
   ],
   "source": [
    "factorial(1)   "
   ]
  },
  {
   "cell_type": "code",
   "execution_count": 18,
   "metadata": {},
   "outputs": [
    {
     "ename": "ModuleNotFoundError",
     "evalue": "No module named 'ipynb'",
     "output_type": "error",
     "traceback": [
      "\u001b[0;31m---------------------------------------------------------------------------\u001b[0m",
      "\u001b[0;31mModuleNotFoundError\u001b[0m                       Traceback (most recent call last)",
      "\u001b[0;32m<ipython-input-18-8a73a8ca478a>\u001b[0m in \u001b[0;36m<module>\u001b[0;34m\u001b[0m\n\u001b[0;32m----> 1\u001b[0;31m \u001b[0;32mfrom\u001b[0m \u001b[0mipynb\u001b[0m\u001b[0;34m.\u001b[0m\u001b[0mfs\u001b[0m\u001b[0;34m.\u001b[0m\u001b[0mfull\u001b[0m\u001b[0;34m.\u001b[0m\u001b[0mFunction\u001b[0m \u001b[0;32mimport\u001b[0m \u001b[0mfactorial\u001b[0m\u001b[0;34m\u001b[0m\u001b[0;34m\u001b[0m\u001b[0m\n\u001b[0m\u001b[1;32m      2\u001b[0m \u001b[0mtesting\u001b[0m \u001b[0;34m=\u001b[0m \u001b[0mfactorial\u001b[0m\u001b[0;34m(\u001b[0m\u001b[0;36m5\u001b[0m\u001b[0;34m)\u001b[0m\u001b[0;34m\u001b[0m\u001b[0;34m\u001b[0m\u001b[0m\n",
      "\u001b[0;31mModuleNotFoundError\u001b[0m: No module named 'ipynb'"
     ]
    }
   ],
   "source": [
    "from ipynb.fs.full.Function import factorial\n",
    "testing = factorial(5)\n"
   ]
  },
  {
   "cell_type": "code",
   "execution_count": null,
   "metadata": {},
   "outputs": [],
   "source": []
  },
  {
   "cell_type": "code",
   "execution_count": 107,
   "metadata": {},
   "outputs": [
    {
     "data": {
      "application/vnd.jupyter.widget-view+json": {
       "model_id": "d0c83e5e757243bb9583b4713ef782c0",
       "version_major": 2,
       "version_minor": 0
      },
      "text/plain": [
       "Dropdown(description='Select an option:', options=('Option 1', 'Option 2', 'Option 3'), value='Option 1')"
      ]
     },
     "metadata": {},
     "output_type": "display_data"
    },
    {
     "data": {
      "application/vnd.jupyter.widget-view+json": {
       "model_id": "733ad47b29f4476ab916f7b38391ba1f",
       "version_major": 2,
       "version_minor": 0
      },
      "text/plain": [
       "Output()"
      ]
     },
     "metadata": {},
     "output_type": "display_data"
    },
    {
     "name": "stdout",
     "output_type": "stream",
     "text": [
      "You selected Option 2.\n",
      "You selected Option 3.\n",
      "You selected Option 1.\n"
     ]
    }
   ],
   "source": [
    "import ipywidgets as widgets\n",
    "from IPython.display import display, clear_output\n",
    "\n",
    "def on_dropdown_change(change):\n",
    "    selected_option = dropdown.value\n",
    "    \n",
    "    # Clear previous output\n",
    "    with output:\n",
    "        clear_output(wait=True)\n",
    "\n",
    "    if selected_option == \"Option 1\":\n",
    "        print(\"You selected Option 1.\")\n",
    "        # Add more output or questions specific to Option 1 here\n",
    "    elif selected_option == \"Option 2\":\n",
    "        print(\"You selected Option 2.\")\n",
    "        # Add more output or questions specific to Option 2 here\n",
    "    elif selected_option == \"Option 3\":\n",
    "        print(\"You selected Option 3.\")\n",
    "        # Add more output or questions specific to Option 3 here\n",
    "\n",
    "# Create a dropdown widget\n",
    "options = [\"Option 1\", \"Option 2\", \"Option 3\"]\n",
    "dropdown = widgets.Dropdown(options=options, value=options[0], description='Select an option:')\n",
    "dropdown.observe(on_dropdown_change, names='value')\n",
    "\n",
    "# Create an output widget for displaying dynamic content\n",
    "output = widgets.Output()\n",
    "\n",
    "# Display the widgets\n",
    "display(dropdown, output)"
   ]
  },
  {
   "cell_type": "code",
   "execution_count": 110,
   "metadata": {},
   "outputs": [
    {
     "data": {
      "application/vnd.jupyter.widget-view+json": {
       "model_id": "9f35abf132a44d0abe617dc868905d75",
       "version_major": 2,
       "version_minor": 0
      },
      "text/plain": [
       "Dropdown(description='Select Option 1:', options=('Comparison', 'Distribution', 'Composition', 'Relationship')…"
      ]
     },
     "metadata": {},
     "output_type": "display_data"
    },
    {
     "data": {
      "application/vnd.jupyter.widget-view+json": {
       "model_id": "90cd72dc267e4d2aa127815735c2e580",
       "version_major": 2,
       "version_minor": 0
      },
      "text/plain": [
       "Output()"
      ]
     },
     "metadata": {},
     "output_type": "display_data"
    },
    {
     "data": {
      "application/vnd.jupyter.widget-view+json": {
       "model_id": "6926b6a943194bad9ec5d8e548951e03",
       "version_major": 2,
       "version_minor": 0
      },
      "text/plain": [
       "Dropdown(description='Select Option 2-1:', options=('Option 2-1', 'Option 2-2', 'Option 2-3'), value='Option 2…"
      ]
     },
     "metadata": {},
     "output_type": "display_data"
    },
    {
     "name": "stdout",
     "output_type": "stream",
     "text": [
      "You selected Option 2-2.\n",
      "You selected Option 2-3.\n",
      "You selected Option 2-1.\n"
     ]
    },
    {
     "data": {
      "application/vnd.jupyter.widget-view+json": {
       "model_id": "ee6d212a723a460f94d25ba6dd7ddce6",
       "version_major": 2,
       "version_minor": 0
      },
      "text/plain": [
       "Dropdown(description='Select Option 3-1:', options=('Option 3-1', 'Option 3-2', 'Option 3-3'), value='Option 3…"
      ]
     },
     "metadata": {},
     "output_type": "display_data"
    },
    {
     "data": {
      "application/vnd.jupyter.widget-view+json": {
       "model_id": "32bea6a86bfe4bb0b833275ce07b7ae6",
       "version_major": 2,
       "version_minor": 0
      },
      "text/plain": [
       "Dropdown(description='Select Option 1-1:', options=('Option 1-1', 'Option 1-2', 'Option 1-3'), value='Option 1…"
      ]
     },
     "metadata": {},
     "output_type": "display_data"
    }
   ],
   "source": [
    "import ipywidgets as widgets\n",
    "from IPython.display import display, clear_output\n",
    "\n",
    "# Function to handle changes in the first dropdown\n",
    "def on_first_dropdown_change(change):\n",
    "    selected_option = first_dropdown.value\n",
    "    \n",
    "    # Clear previous output\n",
    "    with output:\n",
    "        clear_output(wait=False)\n",
    "    \n",
    "    if selected_option == \"Comparison\":\n",
    "        # Display the second dropdown with options specific to Option 1\n",
    "        display(second_dropdown_option_1)\n",
    "        second_dropdown_option_1.observe(on_second_dropdown_change, names='value')\n",
    "    elif selected_option == \"Distribution\":\n",
    "        # Display the second dropdown with options specific to Option 2\n",
    "        display(second_dropdown_option_2)\n",
    "        second_dropdown_option_2.observe(on_second_dropdown_change, names='value')\n",
    "    elif selected_option == \"Composition\":\n",
    "        # Display the second dropdown with options specific to Option 3\n",
    "        display(second_dropdown_option_3)\n",
    "        second_dropdown_option_3.observe(on_second_dropdown_change, names='value')\n",
    "    elif selected_option == \"Relationship\":\n",
    "        # Display the second dropdown with options specific to Option 4\n",
    "        display(second_dropdown_option_4)\n",
    "        second_dropdown_option_4.observe(on_second_dropdown_change, names='value')\n",
    "\n",
    "# Function to handle changes in the second dropdown\n",
    "def on_second_dropdown_change(change):\n",
    "    selected_option = change['new']\n",
    "    \n",
    "    # Clear previous output\n",
    "    with output:\n",
    "        clear_output(wait=False)\n",
    "    \n",
    "    # Display output based on the selected option in the second dropdown\n",
    "    print(f\"You selected {selected_option}.\")\n",
    "\n",
    "# Create the first dropdown\n",
    "first_dropdown_options = [\"Comparison\", \"Distribution\", \"Composition\", \"Relationship\"]\n",
    "first_dropdown = widgets.Dropdown(options=first_dropdown_options, value=first_dropdown_options[0], description='Select Option 1:')\n",
    "first_dropdown.observe(on_first_dropdown_change, names='value')\n",
    "\n",
    "# Create the second dropdowns for each option in the first dropdown\n",
    "second_dropdown_option_1 = widgets.Dropdown(options=[\"Option 1-1\", \"Option 1-2\", \"Option 1-3\"], value=\"Option 1-1\", description='Select Option 1-1:')\n",
    "second_dropdown_option_2 = widgets.Dropdown(options=[\"Option 2-1\", \"Option 2-2\", \"Option 2-3\"], value=\"Option 2-1\", description='Select Option 2-1:')\n",
    "second_dropdown_option_3 = widgets.Dropdown(options=[\"Option 3-1\", \"Option 3-2\", \"Option 3-3\"], value=\"Option 3-1\", description='Select Option 3-1:')\n",
    "second_dropdown_option_4 = widgets.Dropdown(options=[\"Option 4-1\", \"Option 4-2\", \"Option 4-3\"], value=\"Option 4-1\", description='Select Option 4-1:')\n",
    "\n",
    "# Create an output widget for displaying dynamic content\n",
    "output = widgets.Output()\n",
    "\n",
    "# Display the first dropdown\n",
    "display(first_dropdown, output)\n"
   ]
  },
  {
   "cell_type": "code",
   "execution_count": null,
   "metadata": {},
   "outputs": [],
   "source": []
  },
  {
   "cell_type": "code",
   "execution_count": 111,
   "metadata": {},
   "outputs": [
    {
     "data": {
      "application/vnd.jupyter.widget-view+json": {
       "model_id": "c76cc002c10e4079b57e2fb29fc563f4",
       "version_major": 2,
       "version_minor": 0
      },
      "text/plain": [
       "Dropdown(description='Select Option 1:', options=('Option 1', 'Option 2', 'Option 3'), value='Option 1')"
      ]
     },
     "metadata": {},
     "output_type": "display_data"
    },
    {
     "data": {
      "application/vnd.jupyter.widget-view+json": {
       "model_id": "30d806c505dd42939b43ad71e00d7912",
       "version_major": 2,
       "version_minor": 0
      },
      "text/plain": [
       "Output()"
      ]
     },
     "metadata": {},
     "output_type": "display_data"
    },
    {
     "data": {
      "application/vnd.jupyter.widget-view+json": {
       "model_id": "",
       "version_major": 2,
       "version_minor": 0
      },
      "text/plain": [
       "Dropdown(description='Select Option 2-1:', options=('Option 2-1', 'Option 2-2', 'Option 2-3'), value='Option 2…"
      ]
     },
     "metadata": {},
     "output_type": "display_data"
    },
    {
     "name": "stdout",
     "output_type": "stream",
     "text": [
      "You selected Option 2-2.\n",
      "You selected Option 2-3.\n"
     ]
    },
    {
     "data": {
      "application/vnd.jupyter.widget-view+json": {
       "model_id": "",
       "version_major": 2,
       "version_minor": 0
      },
      "text/plain": [
       "Dropdown(description='Select Option 3-1:', options=('Option 3-1', 'Option 3-2', 'Option 3-3'), value='Option 3…"
      ]
     },
     "metadata": {},
     "output_type": "display_data"
    },
    {
     "data": {
      "application/vnd.jupyter.widget-view+json": {
       "model_id": "cc5807dec30241d9a9597a3ad84683d8",
       "version_major": 2,
       "version_minor": 0
      },
      "text/plain": [
       "Dropdown(description='Select Option 1-1:', options=('Option 1-1', 'Option 1-2', 'Option 1-3'), value='Option 1…"
      ]
     },
     "metadata": {},
     "output_type": "display_data"
    },
    {
     "name": "stdout",
     "output_type": "stream",
     "text": [
      "You selected Option 1-2.\n",
      "You selected Option 1-3.\n",
      "You selected Option 1-2.\n",
      "You selected Option 1-1.\n"
     ]
    }
   ],
   "source": [
    "import ipywidgets as widgets\n",
    "from IPython.display import display, clear_output\n",
    "\n",
    "# Function to handle changes in the first dropdown\n",
    "def on_first_dropdown_change(change):\n",
    "    selected_option = first_dropdown.value\n",
    "    \n",
    "    # Clear previous output and remove previous second dropdowns\n",
    "    with output:\n",
    "        clear_output(wait=True)\n",
    "        for dropdown in previous_second_dropdowns:\n",
    "            dropdown.close()\n",
    "\n",
    "    if selected_option == \"Option 1\":\n",
    "        # Display the second dropdown with options specific to Option 1\n",
    "        display(second_dropdown_option_1)\n",
    "        second_dropdown_option_1.observe(on_second_dropdown_change, names='value')\n",
    "        # Store the reference to the displayed second dropdown\n",
    "        previous_second_dropdowns.append(second_dropdown_option_1)\n",
    "    elif selected_option == \"Option 2\":\n",
    "        # Display the second dropdown with options specific to Option 2\n",
    "        display(second_dropdown_option_2)\n",
    "        second_dropdown_option_2.observe(on_second_dropdown_change, names='value')\n",
    "        # Store the reference to the displayed second dropdown\n",
    "        previous_second_dropdowns.append(second_dropdown_option_2)\n",
    "    elif selected_option == \"Option 3\":\n",
    "        # Display the second dropdown with options specific to Option 3\n",
    "        display(second_dropdown_option_3)\n",
    "        second_dropdown_option_3.observe(on_second_dropdown_change, names='value')\n",
    "        # Store the reference to the displayed second dropdown\n",
    "        previous_second_dropdowns.append(second_dropdown_option_3)\n",
    "\n",
    "# Function to handle changes in the second dropdown\n",
    "def on_second_dropdown_change(change):\n",
    "    selected_option = change['new']\n",
    "    \n",
    "    # Clear previous output\n",
    "    with output:\n",
    "        clear_output(wait=True)\n",
    "    \n",
    "    # Display output based on the selected option in the second dropdown\n",
    "    print(f\"You selected {selected_option}.\")\n",
    "\n",
    "# Create the first dropdown\n",
    "first_dropdown_options = [\"Option 1\", \"Option 2\", \"Option 3\"]\n",
    "first_dropdown = widgets.Dropdown(options=first_dropdown_options, value=first_dropdown_options[0], description='Select Option 1:')\n",
    "first_dropdown.observe(on_first_dropdown_change, names='value')\n",
    "\n",
    "# Create the second dropdowns for each option in the first dropdown\n",
    "second_dropdown_option_1 = widgets.Dropdown(options=[\"Option 1-1\", \"Option 1-2\", \"Option 1-3\"], value=\"Option 1-1\", description='Select Option 1-1:')\n",
    "second_dropdown_option_2 = widgets.Dropdown(options=[\"Option 2-1\", \"Option 2-2\", \"Option 2-3\"], value=\"Option 2-1\", description='Select Option 2-1:')\n",
    "second_dropdown_option_3 = widgets.Dropdown(options=[\"Option 3-1\", \"Option 3-2\", \"Option 3-3\"], value=\"Option 3-1\", description='Select Option 3-1:')\n",
    "\n",
    "# Create an output widget for displaying dynamic content\n",
    "output = widgets.Output()\n",
    "\n",
    "# Store references to the displayed second dropdowns\n",
    "previous_second_dropdowns = []\n",
    "\n",
    "# Display the first dropdown\n",
    "display(first_dropdown, output)\n"
   ]
  },
  {
   "cell_type": "code",
   "execution_count": null,
   "metadata": {},
   "outputs": [],
   "source": []
  },
  {
   "cell_type": "code",
   "execution_count": 10,
   "metadata": {},
   "outputs": [
    {
     "name": "stdout",
     "output_type": "stream",
     "text": [
      "mean=7.50, std=1.94, r=0.82\n",
      "mean=7.50, std=1.94, r=0.82\n",
      "mean=7.50, std=1.94, r=0.82\n",
      "mean=7.50, std=1.94, r=0.82\n"
     ]
    },
    {
     "data": {
      "image/png": "[encoded data removed]",
      "text/plain": [
       "<Figure size 432x288 with 4 Axes>"
      ]
     },
     "metadata": {
      "needs_background": "light"
     },
     "output_type": "display_data"
    }
   ],
   "source": [
    "\"\"\"\n",
    "Edward Tufte uses this example from Anscombe to show 4 datasets of x\n",
    "and y that have the same mean, standard deviation, and regression\n",
    "line, but which are qualitatively different.\n",
    "\n",
    "matplotlib fun for a rainy day\n",
    "\"\"\"\n",
    "\n",
    "import matplotlib.pyplot as plt\n",
    "import numpy as np\n",
    "\n",
    "x = np.array([10, 8, 13, 9, 11, 14, 6, 4, 12, 7, 5])\n",
    "y1 = np.array([8.04, 6.95, 7.58, 8.81, 8.33, 9.96, 7.24, 4.26, 10.84, 4.82, 5.68])\n",
    "y2 = np.array([9.14, 8.14, 8.74, 8.77, 9.26, 8.10, 6.13, 3.10, 9.13, 7.26, 4.74])\n",
    "y3 = np.array([7.46, 6.77, 12.74, 7.11, 7.81, 8.84, 6.08, 5.39, 8.15, 6.42, 5.73])\n",
    "x4 = np.array([8, 8, 8, 8, 8, 8, 8, 19, 8, 8, 8])\n",
    "y4 = np.array([6.58, 5.76, 7.71, 8.84, 8.47, 7.04, 5.25, 12.50, 5.56, 7.91, 6.89])\n",
    "\n",
    "\n",
    "def fit(x):\n",
    "    return 3 + 0.5 * x\n",
    "\n",
    "\n",
    "xfit = np.array([np.min(x), np.max(x)])\n",
    "\n",
    "plt.subplot(221)\n",
    "plt.plot(x, y1, 'ks', xfit, fit(xfit), 'r-', lw=2)\n",
    "plt.axis([2, 20, 2, 14])\n",
    "plt.setp(plt.gca(), xticklabels=[], yticks=(4, 8, 12), xticks=(0, 10, 20))\n",
    "plt.text(3, 12, 'I', fontsize=20)\n",
    "\n",
    "plt.subplot(222)\n",
    "plt.plot(x, y2, 'ks', xfit, fit(xfit), 'r-', lw=2)\n",
    "plt.axis([2, 20, 2, 14])\n",
    "plt.setp(plt.gca(), xticks=(0, 10, 20), xticklabels=[],\n",
    "         yticks=(4, 8, 12), yticklabels=[], )\n",
    "plt.text(3, 12, 'II', fontsize=20)\n",
    "\n",
    "plt.subplot(223)\n",
    "plt.plot(x, y3, 'ks', xfit, fit(xfit), 'r-', lw=2)\n",
    "plt.axis([2, 20, 2, 14])\n",
    "plt.text(3, 12, 'III', fontsize=20)\n",
    "plt.setp(plt.gca(), yticks=(4, 8, 12), xticks=(0, 10, 20))\n",
    "\n",
    "plt.subplot(224)\n",
    "xfit = np.array([np.min(x4), np.max(x4)])\n",
    "plt.plot(x4, y4, 'ks', xfit, fit(xfit), 'r-', lw=2)\n",
    "plt.axis([2, 20, 2, 14])\n",
    "plt.setp(plt.gca(), yticklabels=[], yticks=(4, 8, 12), xticks=(0, 10, 20))\n",
    "plt.text(3, 12, 'IV', fontsize=20)\n",
    "\n",
    "# verify the stats\n",
    "pairs = (x, y1), (x, y2), (x, y3), (x4, y4)\n",
    "for x, y in pairs:\n",
    "    print('mean=%1.2f, std=%1.2f, r=%1.2f' % (np.mean(y), np.std(y),\n",
    "          np.corrcoef(x, y)[0][1]))\n",
    "\n",
    "plt.show()"
   ]
  },
  {
   "cell_type": "code",
   "execution_count": null,
   "metadata": {},
   "outputs": [],
   "source": []
  },
  {
   "cell_type": "code",
   "execution_count": 2,
   "metadata": {},
   "outputs": [
    {
     "ename": "SyntaxError",
     "evalue": "can't assign to function call (<ipython-input-2-8654cb8284a1>, line 1)",
     "output_type": "error",
     "traceback": [
      "\u001b[0;36m  File \u001b[0;32m\"<ipython-input-2-8654cb8284a1>\"\u001b[0;36m, line \u001b[0;32m1\u001b[0m\n\u001b[0;31m    c=np.random.rand(3,).reshape(1,-1),\\\u001b[0m\n\u001b[0m     ^\u001b[0m\n\u001b[0;31mSyntaxError\u001b[0m\u001b[0;31m:\u001b[0m can't assign to function call\n"
     ]
    }
   ],
   "source": [
    "                c=np.random.rand(3,).reshape(1,-1),\\\n",
    "               marker = \"s\""
   ]
  },
  {
   "cell_type": "code",
   "execution_count": 3,
   "metadata": {},
   "outputs": [],
   "source": [
    "import matplotlib.pyplot as plt\n",
    "import pandas as pd\n",
    "import seaborn as sns\n",
    "import numpy as np\n",
    "import warnings\n",
    "warnings.filterwarnings('ignore')\n",
    "from IPython.display import clear_output"
   ]
  },
  {
   "cell_type": "code",
   "execution_count": 4,
   "metadata": {},
   "outputs": [],
   "source": [
    "data = pd.read_csv(\"The Datasaurus Dozen/DatasaurusDozen-wide.tsv\", sep = \"\\t\", header = 0,)# names=['x','y'])"
   ]
  },
  {
   "cell_type": "code",
   "execution_count": 5,
   "metadata": {},
   "outputs": [],
   "source": [
    "data = data.drop([0])\n",
    "data = data.apply(pd.to_numeric).reset_index()"
   ]
  },
  {
   "cell_type": "code",
   "execution_count": 6,
   "metadata": {
    "scrolled": false
   },
   "outputs": [
    {
     "data": {
      "text/html": [
       "<div>\n",
       "<style scoped>\n",
       "    .dataframe tbody tr th:only-of-type {\n",
       "        vertical-align: middle;\n",
       "    }\n",
       "\n",
       "    .dataframe tbody tr th {\n",
       "        vertical-align: top;\n",
       "    }\n",
       "\n",
       "    .dataframe thead th {\n",
       "        text-align: right;\n",
       "    }\n",
       "</style>\n",
       "<table border=\"1\" class=\"dataframe\">\n",
       "  <thead>\n",
       "    <tr style=\"text-align: right;\">\n",
       "      <th></th>\n",
       "      <th>index</th>\n",
       "      <th>away</th>\n",
       "      <th>away.1</th>\n",
       "      <th>bullseye</th>\n",
       "      <th>bullseye.1</th>\n",
       "      <th>circle</th>\n",
       "      <th>circle.1</th>\n",
       "      <th>dino</th>\n",
       "      <th>dino.1</th>\n",
       "      <th>dots</th>\n",
       "      <th>...</th>\n",
       "      <th>slant_up</th>\n",
       "      <th>slant_up.1</th>\n",
       "      <th>star</th>\n",
       "      <th>star.1</th>\n",
       "      <th>v_lines</th>\n",
       "      <th>v_lines.1</th>\n",
       "      <th>wide_lines</th>\n",
       "      <th>wide_lines.1</th>\n",
       "      <th>x_shape</th>\n",
       "      <th>x_shape.1</th>\n",
       "    </tr>\n",
       "  </thead>\n",
       "  <tbody>\n",
       "    <tr>\n",
       "      <th>0</th>\n",
       "      <td>1</td>\n",
       "      <td>32.331110</td>\n",
       "      <td>61.411101</td>\n",
       "      <td>51.203891</td>\n",
       "      <td>83.339777</td>\n",
       "      <td>55.993030</td>\n",
       "      <td>79.277264</td>\n",
       "      <td>55.3846</td>\n",
       "      <td>97.1795</td>\n",
       "      <td>51.147917</td>\n",
       "      <td>...</td>\n",
       "      <td>47.695201</td>\n",
       "      <td>95.241187</td>\n",
       "      <td>58.213608</td>\n",
       "      <td>91.881892</td>\n",
       "      <td>50.481508</td>\n",
       "      <td>93.222701</td>\n",
       "      <td>65.815540</td>\n",
       "      <td>95.588374</td>\n",
       "      <td>38.337757</td>\n",
       "      <td>92.472719</td>\n",
       "    </tr>\n",
       "    <tr>\n",
       "      <th>1</th>\n",
       "      <td>2</td>\n",
       "      <td>53.421463</td>\n",
       "      <td>26.186880</td>\n",
       "      <td>58.974470</td>\n",
       "      <td>85.499818</td>\n",
       "      <td>50.032254</td>\n",
       "      <td>79.013071</td>\n",
       "      <td>51.5385</td>\n",
       "      <td>96.0256</td>\n",
       "      <td>50.517126</td>\n",
       "      <td>...</td>\n",
       "      <td>44.609976</td>\n",
       "      <td>93.075835</td>\n",
       "      <td>58.196054</td>\n",
       "      <td>92.214989</td>\n",
       "      <td>50.282406</td>\n",
       "      <td>97.609984</td>\n",
       "      <td>65.672265</td>\n",
       "      <td>91.933402</td>\n",
       "      <td>35.751871</td>\n",
       "      <td>94.116768</td>\n",
       "    </tr>\n",
       "    <tr>\n",
       "      <th>2</th>\n",
       "      <td>3</td>\n",
       "      <td>63.920202</td>\n",
       "      <td>30.832194</td>\n",
       "      <td>51.872073</td>\n",
       "      <td>85.829738</td>\n",
       "      <td>51.288459</td>\n",
       "      <td>82.435940</td>\n",
       "      <td>46.1538</td>\n",
       "      <td>94.4872</td>\n",
       "      <td>50.207480</td>\n",
       "      <td>...</td>\n",
       "      <td>43.856381</td>\n",
       "      <td>94.085872</td>\n",
       "      <td>58.718231</td>\n",
       "      <td>90.310532</td>\n",
       "      <td>50.186703</td>\n",
       "      <td>99.694680</td>\n",
       "      <td>39.002716</td>\n",
       "      <td>92.261838</td>\n",
       "      <td>32.767218</td>\n",
       "      <td>88.518295</td>\n",
       "    </tr>\n",
       "    <tr>\n",
       "      <th>3</th>\n",
       "      <td>4</td>\n",
       "      <td>70.289506</td>\n",
       "      <td>82.533649</td>\n",
       "      <td>48.179931</td>\n",
       "      <td>85.045117</td>\n",
       "      <td>51.170537</td>\n",
       "      <td>79.165294</td>\n",
       "      <td>42.8205</td>\n",
       "      <td>91.4103</td>\n",
       "      <td>50.069482</td>\n",
       "      <td>...</td>\n",
       "      <td>41.578929</td>\n",
       "      <td>90.303567</td>\n",
       "      <td>57.278373</td>\n",
       "      <td>89.907607</td>\n",
       "      <td>50.326911</td>\n",
       "      <td>90.022053</td>\n",
       "      <td>37.795303</td>\n",
       "      <td>93.532455</td>\n",
       "      <td>33.729607</td>\n",
       "      <td>88.622266</td>\n",
       "    </tr>\n",
       "    <tr>\n",
       "      <th>4</th>\n",
       "      <td>5</td>\n",
       "      <td>34.118830</td>\n",
       "      <td>45.734551</td>\n",
       "      <td>41.683200</td>\n",
       "      <td>84.017941</td>\n",
       "      <td>44.377915</td>\n",
       "      <td>78.164628</td>\n",
       "      <td>40.7692</td>\n",
       "      <td>88.3333</td>\n",
       "      <td>50.562846</td>\n",
       "      <td>...</td>\n",
       "      <td>49.177419</td>\n",
       "      <td>96.610532</td>\n",
       "      <td>58.082020</td>\n",
       "      <td>92.008145</td>\n",
       "      <td>50.456207</td>\n",
       "      <td>89.987410</td>\n",
       "      <td>35.513901</td>\n",
       "      <td>89.599190</td>\n",
       "      <td>37.238249</td>\n",
       "      <td>83.724928</td>\n",
       "    </tr>\n",
       "  </tbody>\n",
       "</table>\n",
       "<p>5 rows × 27 columns</p>\n",
       "</div>"
      ],
      "text/plain": [
       "   index       away     away.1   bullseye  bullseye.1     circle   circle.1  \\\n",
       "0      1  32.331110  61.411101  51.203891   83.339777  55.993030  79.277264   \n",
       "1      2  53.421463  26.186880  58.974470   85.499818  50.032254  79.013071   \n",
       "2      3  63.920202  30.832194  51.872073   85.829738  51.288459  82.435940   \n",
       "3      4  70.289506  82.533649  48.179931   85.045117  51.170537  79.165294   \n",
       "4      5  34.118830  45.734551  41.683200   84.017941  44.377915  78.164628   \n",
       "\n",
       "      dino   dino.1       dots  ...   slant_up  slant_up.1       star  \\\n",
       "0  55.3846  97.1795  51.147917  ...  47.695201   95.241187  58.213608   \n",
       "1  51.5385  96.0256  50.517126  ...  44.609976   93.075835  58.196054   \n",
       "2  46.1538  94.4872  50.207480  ...  43.856381   94.085872  58.718231   \n",
       "3  42.8205  91.4103  50.069482  ...  41.578929   90.303567  57.278373   \n",
       "4  40.7692  88.3333  50.562846  ...  49.177419   96.610532  58.082020   \n",
       "\n",
       "      star.1    v_lines  v_lines.1  wide_lines  wide_lines.1    x_shape  \\\n",
       "0  91.881892  50.481508  93.222701   65.815540     95.588374  38.337757   \n",
       "1  92.214989  50.282406  97.609984   65.672265     91.933402  35.751871   \n",
       "2  90.310532  50.186703  99.694680   39.002716     92.261838  32.767218   \n",
       "3  89.907607  50.326911  90.022053   37.795303     93.532455  33.729607   \n",
       "4  92.008145  50.456207  89.987410   35.513901     89.599190  37.238249   \n",
       "\n",
       "   x_shape.1  \n",
       "0  92.472719  \n",
       "1  94.116768  \n",
       "2  88.518295  \n",
       "3  88.622266  \n",
       "4  83.724928  \n",
       "\n",
       "[5 rows x 27 columns]"
      ]
     },
     "execution_count": 6,
     "metadata": {},
     "output_type": "execute_result"
    }
   ],
   "source": [
    "data.head()"
   ]
  },
  {
   "cell_type": "code",
   "execution_count": null,
   "metadata": {},
   "outputs": [],
   "source": []
  },
  {
   "cell_type": "code",
   "execution_count": null,
   "metadata": {},
   "outputs": [],
   "source": []
  },
  {
   "cell_type": "code",
   "execution_count": 9,
   "metadata": {},
   "outputs": [
    {
     "data": {
      "image/png": "[encoded data removed]",
      "text/plain": [
       "<Figure size 400x400 with 1 Axes>"
      ]
     },
     "metadata": {
      "needs_background": "light"
     },
     "output_type": "display_data"
    }
   ],
   "source": [
    "for i in range(100):\n",
    "    plt.figure(1, figsize=(4,4), frameon=True, dpi = 100)\n",
    "    clear_output(wait=True)\n",
    "    plt.scatter(data['dino'], data['dino.1'], marker=\"s\",\\\n",
    "               c=np.random.rand(3,).reshape(1,-1))\n",
    "    plt.show()"
   ]
  },
  {
   "cell_type": "code",
   "execution_count": null,
   "metadata": {},
   "outputs": [],
   "source": []
  },
  {
   "cell_type": "code",
   "execution_count": null,
   "metadata": {},
   "outputs": [],
   "source": [
    "\n",
    "\n",
    "\n",
    "\n",
    "\n",
    "\n",
    "\n",
    "\n",
    "\n"
   ]
  },
  {
   "cell_type": "code",
   "execution_count": null,
   "metadata": {},
   "outputs": [],
   "source": []
  },
  {
   "cell_type": "code",
   "execution_count": null,
   "metadata": {},
   "outputs": [],
   "source": []
  },
  {
   "cell_type": "code",
   "execution_count": null,
   "metadata": {},
   "outputs": [],
   "source": []
  },
  {
   "cell_type": "code",
   "execution_count": null,
   "metadata": {},
   "outputs": [],
   "source": []
  },
  {
   "cell_type": "code",
   "execution_count": null,
   "metadata": {},
   "outputs": [],
   "source": [
    "for i in range(100):\n",
    "    plt.figure(1, figsize=(4, 4), frameon=True, dpi=100)\n",
    "    clear_output(wait=True)\n",
    "    plt.scatter(data[\"dino\"], data[\"dino.1\"], marker = \"s\",\\\n",
    "    c = np.random.rand(3,).reshape(1,-1))\n",
    "    plt.show()"
   ]
  },
  {
   "cell_type": "code",
   "execution_count": null,
   "metadata": {},
   "outputs": [],
   "source": []
  },
  {
   "cell_type": "code",
   "execution_count": null,
   "metadata": {},
   "outputs": [],
   "source": []
  },
  {
   "cell_type": "code",
   "execution_count": 127,
   "metadata": {},
   "outputs": [],
   "source": [
    "import matplotlib.pyplot as plt\n",
    "import pandas as pd\n",
    "\n",
    "def plot_dataset(data, chart_type):\n",
    "    \"\"\"\n",
    "    Plot dataset based on user-specified chart type.\n",
    "\n",
    "    Parameters:\n",
    "    - data: Pandas DataFrame or a 2D NumPy array\n",
    "    - chart_type: str, specifying the desired chart type ('line', 'scatter', 'bar', 'hist', 'box')\n",
    "\n",
    "    Returns:\n",
    "    - None (displays the plot)\n",
    "    \"\"\"\n",
    "    if not isinstance(data, (pd.DataFrame, pd.Series, pd.Index, pd.Panel)):\n",
    "        raise ValueError(\"Input data must be a Pandas DataFrame, Series, Index, or Panel.\")\n",
    "\n",
    "    if chart_type not in ['line', 'scatter', 'bar', 'hist', 'box']:\n",
    "        raise ValueError(\"Invalid chart type. Supported types are 'line', 'scatter', 'bar', 'hist', 'box'.\")\n",
    "\n",
    "    # Determine the number of columns in the dataset\n",
    "    num_columns = len(data.columns) if isinstance(data, pd.DataFrame) else 1\n",
    "\n",
    "    # Create a new figure and axes\n",
    "    fig = plt.figure(1, figsize = (2,2), dpi = 200)\n",
    "    ax = fig.add_subplot(111)\n",
    "    \n",
    "    if chart_type == 'line':\n",
    "        # Line plot\n",
    "        if num_columns > 1:\n",
    "            data.plot(kind='line', ax=ax)\n",
    "        else:\n",
    "            ax.plot(data.index, data.values.flatten())\n",
    "        ax.set_title('Line Plot')\n",
    "\n",
    "    elif chart_type == 'scatter':\n",
    "        # Scatter plot\n",
    "        if num_columns > 1:\n",
    "            data.plot(kind='scatter', x=data.columns[0], y=data.columns[1], ax=ax)\n",
    "        else:\n",
    "            ax.scatter(data.index, data.values.flatten())\n",
    "        ax.set_title('Scatter Plot')\n",
    "\n",
    "    elif chart_type == 'bar':\n",
    "        # Bar plot\n",
    "        if num_columns > 1:\n",
    "            data.plot(kind='bar', ax=ax)\n",
    "        else:\n",
    "            ax.bar(data.index, data.values.flatten())\n",
    "        ax.set_title('Bar Plot')\n",
    "\n",
    "    elif chart_type == 'hist':\n",
    "        # Histogram\n",
    "        if num_columns > 1:\n",
    "            data.plot(kind='hist', alpha=0.5, ax=ax)\n",
    "        else:\n",
    "            ax.hist(data.values.flatten(), bins=10, alpha=0.5)\n",
    "        ax.set_title('Histogram')\n",
    "\n",
    "    elif chart_type == 'box':\n",
    "        # Box plot\n",
    "        if num_columns > 1:\n",
    "            data.plot(kind='box', ax=ax)\n",
    "        else:\n",
    "            ax.boxplot(data.values.flatten())\n",
    "        ax.set_title('Box Plot')\n",
    "\n",
    "    # Show the plot\n",
    "    plt.show()\n",
    "\n",
    "# Example usage:\n",
    "# Assuming you have a Pandas DataFrame called 'df' with your dataset\n",
    "# and a variable 'chart_type' specifying the desired chart type\n",
    "\n",
    "# plot_dataset(df, 'line')\n",
    "# plot_dataset(df, 'scatter')\n",
    "# plot_dataset(df, 'bar')\n",
    "# plot_dataset(df, 'hist')\n",
    "# plot_dataset(df, 'box')"
   ]
  },
  {
   "cell_type": "code",
   "execution_count": 184,
   "metadata": {},
   "outputs": [],
   "source": [
    "# # Generating a toy dataset with three columns\n",
    "# np.random.seed(4156789)\n",
    "# data = {\n",
    "#     'A': sorted(np.random.rand(30)),\n",
    "#     'B': np.random.randint(1, 5, size=30),\n",
    "#     'C': np.random.randn(30)\n",
    "# }\n",
    "\n",
    "# df = pd.DataFrame(data)\n",
    "\n",
    "# # Display the generated dataset\n",
    "# print(\"Generated Toy Dataset:\")\n",
    "# print(df)"
   ]
  },
  {
   "cell_type": "code",
   "execution_count": 190,
   "metadata": {},
   "outputs": [
    {
     "name": "stdout",
     "output_type": "stream",
     "text": [
      "           A   B          C\n",
      "0   1.028337   1   0.421677\n",
      "1   1.378028   2   1.312131\n",
      "2   2.254714   3   1.780271\n",
      "3   3.291312   4   2.092388\n",
      "4   1.895040   5   2.152110\n",
      "5   1.452144   6   3.087895\n",
      "6   1.592111   7   3.792675\n",
      "7   1.764221   8   3.984081\n",
      "8   0.508239   9   4.817093\n",
      "9  -0.219593  10   5.327165\n",
      "10  0.360457  11   6.132180\n",
      "11  0.498723  12   6.256220\n",
      "12 -0.326683  13   7.175863\n",
      "13 -1.486960  14   7.975363\n",
      "14 -1.271250  15   8.934527\n",
      "15 -1.564462  16   9.099795\n",
      "16 -1.527400  17   9.826749\n",
      "17 -0.841709  18  10.227470\n",
      "18 -0.746824  19  10.451568\n",
      "19 -1.832666  20  10.800839\n",
      "20 -0.758197  21  11.608110\n",
      "21 -1.546489  22  11.813192\n",
      "22  0.172211  23  12.023558\n",
      "23  0.784305  24  12.298989\n",
      "24 -0.086724  25  12.844705\n",
      "25 -0.103301  26  13.759929\n",
      "26  0.430190  27  14.108688\n",
      "27  0.753802  28  14.384558\n",
      "28  0.636162  29  14.949957\n",
      "29 -0.176741  30  15.028658\n"
     ]
    }
   ],
   "source": [
    "# Set a seed for reproducibility\n",
    "np.random.seed(4156789)\n",
    "\n",
    "# Number of data points\n",
    "num_points = 30\n",
    "\n",
    "# Generating data for 'A' (randomly increasing)\n",
    "data_A = np.cumsum(np.random.randn(num_points))\n",
    "\n",
    "# Generating data for 'B' (set of integers)\n",
    "data_B = np.arange(1, num_points + 1)\n",
    "\n",
    "data_C = np.cumsum(np.random.rand(num_points))\n",
    "\n",
    "# # Generating data for 'C' (exponentially increasing with variability)\n",
    "# base_c = np.exp(np.arange(1, num_points + 1))\n",
    "# variability = np.random.normal(0, 0.2, num_points)  # Adjust the parameters for desired variability\n",
    "\n",
    "# data_C = base_c + variability\n",
    "\n",
    "# Creating a DataFrame\n",
    "df = pd.DataFrame({'A': data_A, 'B': data_B, 'C': data_C})\n",
    "print(df)"
   ]
  },
  {
   "cell_type": "code",
   "execution_count": 205,
   "metadata": {},
   "outputs": [
    {
     "data": {
      "text/plain": [
       "(6.310997255591967, 465, 465)"
      ]
     },
     "execution_count": 205,
     "metadata": {},
     "output_type": "execute_result"
    }
   ],
   "source": [
    "abs(sum(df['A'])) ,abs(sum(df['B'])),abs(sum(df['B']))"
   ]
  },
  {
   "cell_type": "code",
   "execution_count": 191,
   "metadata": {},
   "outputs": [
    {
     "data": {
      "image/png": "[encoded data removed]",
      "text/plain": [
       "<Figure size 400x400 with 1 Axes>"
      ]
     },
     "metadata": {
      "needs_background": "light"
     },
     "output_type": "display_data"
    }
   ],
   "source": [
    "plot_dataset(df, 'line')"
   ]
  },
  {
   "cell_type": "code",
   "execution_count": 192,
   "metadata": {},
   "outputs": [
    {
     "data": {
      "image/png": "[encoded data removed]",
      "text/plain": [
       "<Figure size 400x400 with 1 Axes>"
      ]
     },
     "metadata": {
      "needs_background": "light"
     },
     "output_type": "display_data"
    }
   ],
   "source": [
    "plot_dataset(df, 'scatter')"
   ]
  },
  {
   "cell_type": "code",
   "execution_count": 193,
   "metadata": {},
   "outputs": [
    {
     "data": {
      "image/png": "[encoded data removed]",
      "text/plain": [
       "<Figure size 400x400 with 1 Axes>"
      ]
     },
     "metadata": {
      "needs_background": "light"
     },
     "output_type": "display_data"
    }
   ],
   "source": [
    "plot_dataset(df, 'box')"
   ]
  },
  {
   "cell_type": "code",
   "execution_count": 194,
   "metadata": {},
   "outputs": [
    {
     "data": {
      "image/png": "[encoded data removed]",
      "text/plain": [
       "<Figure size 400x400 with 1 Axes>"
      ]
     },
     "metadata": {
      "needs_background": "light"
     },
     "output_type": "display_data"
    }
   ],
   "source": [
    "plot_dataset(df, 'bar')"
   ]
  },
  {
   "cell_type": "code",
   "execution_count": 195,
   "metadata": {},
   "outputs": [
    {
     "data": {
      "image/png": "[encoded data removed]",
      "text/plain": [
       "<Figure size 400x400 with 1 Axes>"
      ]
     },
     "metadata": {
      "needs_background": "light"
     },
     "output_type": "display_data"
    }
   ],
   "source": [
    "plot_dataset(df, 'hist')"
   ]
  },
  {
   "cell_type": "code",
   "execution_count": 214,
   "metadata": {},
   "outputs": [],
   "source": [
    "import numpy as np\n",
    "import pandas as pd\n",
    "import matplotlib.pyplot as plt\n",
    "from mpl_toolkits.mplot3d import Axes3D\n",
    "\n",
    "def plot_dataset(data, chart_type):\n",
    "    \"\"\"\n",
    "    Plot dataset based on user-specified chart type.\n",
    "\n",
    "    Parameters:\n",
    "    - data: Pandas DataFrame or a 2D NumPy array\n",
    "    - chart_type: str, specifying the desired chart type ('line', 'scatter', 'bar', 'hist', 'box',\n",
    "                                                           'pie', 'waterfall', 'bubble', 'violin',\n",
    "                                                           'variable_width_column', '3d_surface', 'normalized_area')\n",
    "\n",
    "    Returns:\n",
    "    - None (displays the plot)\n",
    "    \"\"\"\n",
    "    if not isinstance(data, (pd.DataFrame, pd.Series, pd.Index, pd.Panel)):\n",
    "        raise ValueError(\"Input data must be a Pandas DataFrame, Series, Index, or Panel.\")\n",
    "\n",
    "    if chart_type not in ['line', 'scatter', 'bar', 'hist', 'box', 'pie', 'waterfall', 'bubble', 'violin',\n",
    "                          'variable_width_column', '3d_surface', 'normalized_area']:\n",
    "        raise ValueError(\"Invalid chart type. Supported types are 'line', 'scatter', 'bar', 'hist', 'box', \"\n",
    "                         \"'pie', 'waterfall', 'bubble', 'violin', 'variable_width_column', '3d_surface', 'normalized_area'.\")\n",
    "\n",
    "    # Determine the number of columns in the dataset\n",
    "    num_columns = len(data.columns) if isinstance(data, pd.DataFrame) else 1\n",
    "\n",
    "    # Create a new figure and axes\n",
    "    fig = plt.figure(1, figsize = (2,2), dpi = 200)\n",
    "    ax = fig.add_subplot(111)\n",
    "\n",
    "    if chart_type == 'line':\n",
    "        # Line plot\n",
    "        if num_columns > 1:\n",
    "            data.plot(kind='line', ax=ax)\n",
    "        else:\n",
    "            ax.plot(data.index, data.values.flatten())\n",
    "        ax.set_title('Line Plot')\n",
    "\n",
    "    elif chart_type == 'scatter':\n",
    "        # Scatter plot\n",
    "        if num_columns > 1:\n",
    "            data.plot(kind='scatter', x=data.columns[0], y=data.columns[1], ax=ax)\n",
    "        else:\n",
    "            ax.scatter(data.index, data.values.flatten())\n",
    "        ax.set_title('Scatter Plot')\n",
    "\n",
    "    elif chart_type == 'bar':\n",
    "        # Bar plot\n",
    "        if num_columns > 1:\n",
    "            data.plot(kind='bar', ax=ax)\n",
    "        else:\n",
    "            ax.bar(data.index, data.values.flatten())\n",
    "        ax.set_title('Bar Plot')\n",
    "\n",
    "    elif chart_type == 'hist':\n",
    "        # Histogram\n",
    "        if num_columns > 1:\n",
    "            data.plot(kind='hist', alpha=0.5, ax=ax)\n",
    "        else:\n",
    "            ax.hist(data.values.flatten(), bins=10, alpha=0.5)\n",
    "        ax.set_title('Histogram')\n",
    "\n",
    "    elif chart_type == 'box':\n",
    "        # Box plot\n",
    "        if num_columns > 1:\n",
    "            data.plot(kind='box', ax=ax)\n",
    "        else:\n",
    "            ax.boxplot(data.values.flatten())\n",
    "        ax.set_title('Box Plot')\n",
    "\n",
    "    elif chart_type == 'pie':\n",
    "        ax.pie\n",
    "        # Pie chart\n",
    "#         if num_columns > 1:\n",
    "#             raise ValueError(\"Pie chart can only be used with a single column of data.\")\n",
    "#         else:\n",
    "#             ax.pie(data.values.flatten(), labels=data.index, autopct='%1.1f%%')\n",
    "        ax.pie([abs(sum(data[x])) for x in list(data)],labels=list(data), autopct='%1.1f%%')\n",
    "        ax.set_title('Pie Chart')\n",
    "\n",
    "    elif chart_type == 'waterfall':\n",
    "        # Waterfall chart\n",
    "        if num_columns > 1:\n",
    "            raise ValueError(\"Waterfall chart can only be used with a single column of data.\")\n",
    "        else:\n",
    "            ax.bar(data.index, data.values.flatten(), align='center')\n",
    "            ax.set_title('Waterfall Chart')\n",
    "\n",
    "    elif chart_type == 'bubble':\n",
    "        # Bubble plot\n",
    "        if num_columns != 3:\n",
    "            raise ValueError(\"Bubble plot requires three columns of data (x, y, size).\")\n",
    "        else:\n",
    "            ax.scatter(data.iloc[:, 0], data.iloc[:, 1], s=data.iloc[:, 2]*100, alpha=0.5)\n",
    "            ax.set_title('Bubble Plot')\n",
    "\n",
    "    elif chart_type == 'violin':\n",
    "        # Violin plot\n",
    "        if num_columns != 1:\n",
    "            raise ValueError(\"Violin plot can only be used with a single column of data.\")\n",
    "        else:\n",
    "            ax.violinplot(data.values.flatten(), vert=False)\n",
    "            ax.set_title('Violin Plot')\n",
    "\n",
    "    elif chart_type == 'variable_width_column':\n",
    "        # Variable width column plot\n",
    "        if num_columns != 2:\n",
    "            raise ValueError(\"Variable width column plot requires two columns of data (x, width).\")\n",
    "        else:\n",
    "            ax.bar(data.iloc[:, 0], 1, width=data.iloc[:, 1])\n",
    "            ax.set_title('Variable Width Column Plot')\n",
    "\n",
    "    elif chart_type == '3d_surface':\n",
    "        # 3D surface plot\n",
    "        if num_columns != 3:\n",
    "            raise ValueError(\"3D surface plot requires three columns of data (x, y, z).\")\n",
    "        else:\n",
    "#             fig = plt.figure()\n",
    "            ax = fig.add_subplot(111, projection='3d')\n",
    "            ax.plot_trisurf(data.iloc[:, 0], data.iloc[:, 1], data.iloc[:, 2], cmap='viridis')\n",
    "            ax.set_title('3D Surface Plot')\n",
    "\n",
    "    elif chart_type == 'normalized_area':\n",
    "        # Normalized area chart\n",
    "        if num_columns < 2:\n",
    "            raise ValueError(\"Normalized area chart requires at least two columns of data.\")\n",
    "        else:\n",
    "            data_normalized = data.div(data.sum(axis=1), axis=0)\n",
    "            data_normalized.plot(kind='area', stacked=True, ax=ax)\n",
    "            ax.set_title('Normalized Area Chart')\n",
    "\n",
    "    # Show the plot\n",
    "    plt.show()\n",
    "\n",
    "# Example usage:\n",
    "# Assuming you have a Pandas DataFrame called 'df' with your dataset\n",
    "# and a variable 'chart_type' specifying the desired chart type\n",
    "\n",
    "# plot_dataset(df, 'line')\n",
    "# plot_dataset(df, 'scatter')\n",
    "# plot_dataset(df, 'bar')\n",
    "# plot_dataset(df, 'hist')\n",
    "# plot_dataset(df, 'box')\n",
    "# plot_dataset(df, 'pie')\n",
    "# plot_dataset(df, 'waterfall')\n",
    "# plot_dataset(df[['X', 'Y', 'Size']], 'bubble')\n",
    "# plot_dataset(df[['Value']], 'violin')\n",
    "# plot_dataset(df[['X', 'Width']], 'variable_width_column')\n",
    "# plot_dataset(df[['X', 'Y', 'Z']], '3d_surface')\n",
    "# plot_dataset(df[['Category', 'A', 'B']], 'normalized_area')\n"
   ]
  },
  {
   "cell_type": "code",
   "execution_count": 210,
   "metadata": {},
   "outputs": [
    {
     "data": {
      "text/plain": [
       "[14.17077731674797, 75, 7.002433757366991]"
      ]
     },
     "execution_count": 210,
     "metadata": {},
     "output_type": "execute_result"
    }
   ],
   "source": [
    "[abs(sum(data[x])) for x in list(data)]"
   ]
  },
  {
   "cell_type": "code",
   "execution_count": 209,
   "metadata": {},
   "outputs": [
    {
     "data": {
      "text/plain": [
       "['A', 'B', 'C']"
      ]
     },
     "execution_count": 209,
     "metadata": {},
     "output_type": "execute_result"
    }
   ],
   "source": [
    "list(data)"
   ]
  },
  {
   "cell_type": "code",
   "execution_count": 215,
   "metadata": {},
   "outputs": [
    {
     "data": {
      "image/png": "[encoded data removed]",
      "text/plain": [
       "<Figure size 400x400 with 1 Axes>"
      ]
     },
     "metadata": {},
     "output_type": "display_data"
    }
   ],
   "source": [
    "plot_dataset(df, 'pie')"
   ]
  },
  {
   "cell_type": "code",
   "execution_count": null,
   "metadata": {},
   "outputs": [],
   "source": []
  },
  {
   "cell_type": "code",
   "execution_count": 216,
   "metadata": {},
   "outputs": [
    {
     "data": {
      "image/png": "[encoded data removed]",
      "text/plain": [
       "<Figure size 400x400 with 1 Axes>"
      ]
     },
     "metadata": {},
     "output_type": "display_data"
    }
   ],
   "source": [
    "# plot_dataset(df, 'line')\n",
    "# plot_dataset(df, 'scatter')\n",
    "# plot_dataset(df, 'bar')\n",
    "# plot_dataset(df, 'hist')\n",
    "# plot_dataset(df, 'box')\n",
    "plot_dataset(df, 'pie')\n",
    "# plot_dataset(df, 'waterfall')\n",
    "# plot_dataset(df[['X', 'Y', 'Size']], 'bubble')\n",
    "# plot_dataset(df[['Value']], 'violin')\n",
    "# plot_dataset(df[['X', 'Width']], 'variable_width_column')\n",
    "# plot_dataset(df[['X', 'Y', 'Z']], '3d_surface')\n",
    "# plot_dataset(df[['Category', 'A', 'B']], 'normalized_area')\n"
   ]
  },
  {
   "cell_type": "code",
   "execution_count": 156,
   "metadata": {},
   "outputs": [
    {
     "name": "stdout",
     "output_type": "stream",
     "text": [
      "Line and Scatter Data:\n",
      "    X    Y_Line  Y_Scatter\n",
      "0   1  0.374540  -0.469474\n",
      "1   2  0.950714   0.542560\n",
      "2   3  0.731994  -0.463418\n",
      "3   4  0.598658  -0.465730\n",
      "4   5  0.156019   0.241962\n",
      "5   6  0.155995  -1.913280\n",
      "6   7  0.058084  -1.724918\n",
      "7   8  0.866176  -0.562288\n",
      "8   9  0.601115  -1.012831\n",
      "9  10  0.708073   0.314247\n",
      "\n",
      "Bar Data:\n",
      "  Category  Value_Bar  Width_Variable_Width_Column\n",
      "0        A          3                     0.065052\n",
      "1        B          7                     0.948886\n",
      "2        C          4                     0.965632\n",
      "3        D          9                     0.808397\n",
      "4        E          3                     0.304614\n",
      "5        F          5                     0.097672\n",
      "6        G          3                     0.684233\n",
      "7        H          7                     0.440152\n",
      "8        I          5                     0.122038\n",
      "9        J          9                     0.495177\n",
      "\n",
      "Histogram and Violin Data:\n",
      "     Values_Hist_Violin\n",
      "0              0.822545\n",
      "1             -1.220844\n",
      "2              0.208864\n",
      "3             -1.959670\n",
      "4             -1.328186\n",
      "..                  ...\n",
      "995           -1.022793\n",
      "996           -0.257377\n",
      "997           -1.668584\n",
      "998            0.399223\n",
      "999            0.647196\n",
      "\n",
      "[1000 rows x 1 columns]\n",
      "\n",
      "Bubble Data:\n",
      "   X_Bubble  Y_Bubble  Size_Bubble\n",
      "0  0.742707  0.486669     0.733113\n",
      "1  0.425493  0.873423     0.131568\n",
      "2  0.345935  0.900702     0.715825\n",
      "3  0.371039  0.421721     0.909033\n",
      "4  0.987650  0.276828     0.179683\n",
      "5  0.040109  0.592350     0.237543\n",
      "6  0.867031  0.912363     0.971395\n",
      "7  0.578675  0.210662     0.180977\n",
      "8  0.438615  0.622967     0.854385\n",
      "9  0.725258  0.631560     0.492278\n",
      "\n",
      "3D Surface Data:\n",
      "    X_3D  Y_3D      Z_3D\n",
      "0    1.0   1.0  0.247231\n",
      "1    2.0   1.0  0.870750\n",
      "2    3.0   1.0  0.445305\n",
      "3    4.0   1.0  0.514817\n",
      "4    5.0   1.0  0.359233\n",
      "..   ...   ...       ...\n",
      "95   6.0  10.0  0.782385\n",
      "96   7.0  10.0  0.567016\n",
      "97   8.0  10.0  0.738449\n",
      "98   9.0  10.0  0.878516\n",
      "99  10.0  10.0  0.404140\n",
      "\n",
      "[100 rows x 3 columns]\n",
      "\n",
      "Normalized Area Data:\n",
      "  Category_NA      A_NA      B_NA      C_NA\n",
      "0           A  0.327033  0.762285  0.817834\n",
      "1           B  0.667593  0.797814  0.120209\n",
      "2           C  0.807846  0.435583  0.544489\n"
     ]
    }
   ],
   "source": [
    "import numpy as np\n",
    "import pandas as pd\n",
    "\n",
    "# Generating a diverse dataset\n",
    "np.random.seed(42)\n",
    "\n",
    "# Common X-axis for most charts\n",
    "x_values = np.arange(1, 11)\n",
    "\n",
    "# Dataset for line and scatter plots\n",
    "line_scatter_data = {\n",
    "    'X': x_values,\n",
    "    'Y_Line': np.random.rand(10),\n",
    "    'Y_Scatter': np.random.randn(10),\n",
    "}\n",
    "\n",
    "# Dataset for bar, variable width column, waterfall, and pie charts\n",
    "bar_data = {\n",
    "    'Category': ['A', 'B', 'C', 'D', 'E', 'F', 'G', 'H', 'I', 'J'],\n",
    "    'Value_Bar': np.random.randint(1, 10, size=10),\n",
    "    'Width_Variable_Width_Column': np.random.rand(10),\n",
    "}\n",
    "\n",
    "# Dataset for histogram and violin plot\n",
    "hist_violin_data = {\n",
    "    'Values_Hist_Violin': np.random.randn(1000),\n",
    "}\n",
    "\n",
    "# Dataset for bubble plot\n",
    "bubble_data = {\n",
    "    'X_Bubble': np.random.rand(10),\n",
    "    'Y_Bubble': np.random.rand(10),\n",
    "    'Size_Bubble': np.random.rand(10),\n",
    "}\n",
    "\n",
    "# Dataset for 3D surface plot\n",
    "x_3d_surface, y_3d_surface = np.meshgrid(np.linspace(1, 10, 10), np.linspace(1, 10, 10))\n",
    "z_3d_surface = np.random.rand(10, 10)\n",
    "\n",
    "# Dataset for normalized area chart\n",
    "normalized_area_data = {\n",
    "    'Category_NA': ['A', 'B', 'C'],\n",
    "    'A_NA': np.random.rand(3),\n",
    "    'B_NA': np.random.rand(3),\n",
    "    'C_NA': np.random.rand(3),\n",
    "}\n",
    "\n",
    "# Creating DataFrames\n",
    "df_line_scatter = pd.DataFrame(line_scatter_data)\n",
    "df_bar = pd.DataFrame(bar_data)\n",
    "df_hist_violin = pd.DataFrame(hist_violin_data)\n",
    "df_bubble = pd.DataFrame(bubble_data)\n",
    "df_3d_surface = pd.DataFrame({'X_3D': x_3d_surface.flatten(), 'Y_3D': y_3d_surface.flatten(), 'Z_3D': z_3d_surface.flatten()})\n",
    "df_normalized_area = pd.DataFrame(normalized_area_data)\n",
    "\n",
    "# Display the generated datasets\n",
    "print(\"Line and Scatter Data:\")\n",
    "print(df_line_scatter)\n",
    "\n",
    "print(\"\\nBar Data:\")\n",
    "print(df_bar)\n",
    "\n",
    "print(\"\\nHistogram and Violin Data:\")\n",
    "print(df_hist_violin)\n",
    "\n",
    "print(\"\\nBubble Data:\")\n",
    "print(df_bubble)\n",
    "\n",
    "print(\"\\n3D Surface Data:\")\n",
    "print(df_3d_surface)\n",
    "\n",
    "print(\"\\nNormalized Area Data:\")\n",
    "print(df_normalized_area)\n"
   ]
  },
  {
   "cell_type": "code",
   "execution_count": 173,
   "metadata": {},
   "outputs": [
    {
     "data": {
      "image/png": "[encoded data removed]",
      "text/plain": [
       "<Figure size 400x400 with 1 Axes>"
      ]
     },
     "metadata": {
      "needs_background": "light"
     },
     "output_type": "display_data"
    }
   ],
   "source": [
    "# plot_dataset(df_line_scatter, 'line')\n",
    "# plot_dataset(df_line_scatter, 'scatter')\n",
    "# plot_dataset(df_bar, 'bar')\n",
    "# plot_dataset(df_hist_violin, 'hist')\n",
    "# plot_dataset(df_hist_violin, 'box')\n",
    "# plot_dataset(df, 'pie')\n",
    "# plot_dataset(df, 'waterfall')\n",
    "# plot_dataset(df_bubble, 'bubble')\n",
    "# plot_dataset(df_hist_violin, 'violin')\n",
    "# plot_dataset(df[['X', 'Width']], 'variable_width_column')\n",
    "# plot_dataset(df[['A', 'B', 'C']], '3d_surface')\n",
    "plot_dataset(df[['B', 'A']], 'normalized_area')\n"
   ]
  },
  {
   "cell_type": "markdown",
   "metadata": {},
   "source": [
    "\n",
    "matplotlib.pyplot is a module within the Matplotlib library that provides a convenient interface for creating plots. While it's not feasible to list every possible keyword argument for every function in pyplot, I can give you an overview of some commonly used kwargs and settings that you might encounter. Note that this is not an exhaustive list, and you should refer to the official documentation for the most accurate and up-to-date information.\n",
    "\n",
    "Here are some common keyword arguments used in Matplotlib's pyplot module:\n",
    "\n",
    "Figure creation and layout:\n",
    "\n",
    "figsize: Tuple specifying the figure size in inches.\n",
    "dpi: Dots per inch for the figure.\n",
    "subplotpars: Subplot parameters.\n",
    "Plot appearance:\n",
    "\n",
    "color or c: Color of the line or marker.\n",
    "linestyle or ls: Line style (e.g., '-', '--', ':').\n",
    "marker: Marker style.\n",
    "markersize or ms: Marker size.\n",
    "label: Label for the plot.\n",
    "Axis settings:\n",
    "\n",
    "xlabel, ylabel: Labels for the x and y-axes.\n",
    "xlim, ylim: Limits for the x and y-axes.\n",
    "xticks, yticks: Locations of tick marks on the x and y-axes.\n",
    "xticklabels, yticklabels: Labels for tick marks on the x and y-axes.\n",
    "Title and annotations:\n",
    "\n",
    "title: Title of the plot.\n",
    "suptitle: Super title (centered title above all subplots).\n",
    "text: Add text at an arbitrary location.\n",
    "annotate: Annotate a point with text and/or an arrow.\n",
    "Legend:\n",
    "\n",
    "legend: Display legend.\n",
    "loc: Location of the legend (e.g., 'upper right', 'lower left').\n",
    "Grid and axes appearance:\n",
    "\n",
    "grid: Display grid.\n",
    "axhline, axvline: Add horizontal/vertical lines.\n",
    "axhspan, axvspan: Add horizontal/vertical shaded regions."
   ]
  },
  {
   "cell_type": "code",
   "execution_count": null,
   "metadata": {},
   "outputs": [],
   "source": [
    "kwargs = {\n",
    "    \n",
    "    \n",
    "    \n",
    "}"
   ]
  },
  {
   "cell_type": "code",
   "execution_count": 161,
   "metadata": {},
   "outputs": [
    {
     "data": {
      "image/png": "[encoded data removed]",
      "text/plain": [
       "<Figure size 432x288 with 1 Axes>"
      ]
     },
     "metadata": {
      "needs_background": "light"
     },
     "output_type": "display_data"
    }
   ],
   "source": [
    "import numpy as np\n",
    "import matplotlib.pyplot as plt\n",
    "\n",
    "# Set a random seed for reproducibility\n",
    "np.random.seed(seed)\n",
    "\n",
    "# Generate random x values\n",
    "x = np.sort(10 ** np.random.uniform(1, 4, 100))\n",
    "x2 = np.sort(10 ** np.random.uniform(1, 8, 100))\n",
    "\n",
    "# Generate y values with logarithmic increase\n",
    "y = 3 * np.log10(x) + np.random.normal(0, 0.8, len(x))\n",
    "\n",
    "y2 = 4 * np.log10(x2) + np.random.normal(0, 0.8, len(x))\n",
    "\n",
    "# Plot the data\n",
    "plt.scatter(x, y, label='Random Scatter with Logarithmic Increase')\n",
    "\n",
    "plt.scatter(x2, y2, label='Random Scatter with Logarithmic Increase')\n",
    "plt.xscale('log')  # Set x-axis to logarithmic scale\n",
    "plt.xlabel('X')\n",
    "plt.ylabel('Y')\n",
    "plt.title('Random Scatter with Logarithmic Increase')\n",
    "plt.legend()\n",
    "plt.show()"
   ]
  },
  {
   "cell_type": "code",
   "execution_count": 3,
   "metadata": {},
   "outputs": [
    {
     "data": {
      "image/png": "[encoded data removed]",
      "text/plain": [
       "<Figure size 432x288 with 1 Axes>"
      ]
     },
     "metadata": {
      "needs_background": "light"
     },
     "output_type": "display_data"
    }
   ],
   "source": [
    "# Set a random seed for reproducibility\n",
    "np.random.seed(42)\n",
    "\n",
    "# Generate random x values\n",
    "x = np.sort(10 ** np.random.uniform(1, 5, 100))\n",
    "\n",
    "# Generate y values with logarithmic increase\n",
    "y_log = 3 * np.log10(x)\n",
    "\n",
    "# Introduce deviation at higher x values\n",
    "deviation_mask = x > 1000\n",
    "y_deviation = 2 * np.log10(x[deviation_mask]) + np.random.normal(0, 0.5, np.sum(deviation_mask))\n",
    "y = np.concatenate([y_log[:np.sum(~deviation_mask)], y_deviation])\n",
    "\n",
    "# Plot the data\n",
    "plt.scatter(x, y, label='Random Scatter with Logarithmic Increase and Deviation')\n",
    "plt.xscale('log')  # Set x-axis to logarithmic scale\n",
    "plt.xlabel('X')\n",
    "plt.ylabel('Y')\n",
    "plt.title('Random Scatter with Logarithmic Increase and Deviation')\n",
    "plt.legend()\n",
    "plt.show()"
   ]
  },
  {
   "cell_type": "code",
   "execution_count": 7,
   "metadata": {},
   "outputs": [
    {
     "data": {
      "image/png": "[encoded data removed]",
      "text/plain": [
       "<Figure size 432x288 with 1 Axes>"
      ]
     },
     "metadata": {
      "needs_background": "light"
     },
     "output_type": "display_data"
    }
   ],
   "source": [
    "import numpy as np\n",
    "import matplotlib.pyplot as plt\n",
    "\n",
    "# Set a random seed for reproducibility\n",
    "np.random.seed(20240103)\n",
    "\n",
    "# Generate random x values\n",
    "x = np.sort(10 ** np.random.uniform(1, 5, 100))\n",
    "\n",
    "# Generate y values with a logarithmic increase for the entire range of x\n",
    "y_log = 3 * np.log10(x) + np.random.normal(0, 0.2, len(x))\n",
    "\n",
    "# Introduce deviation at higher x values\n",
    "deviation_mask = x > 1000\n",
    "y_deviation = 2 * np.log10(x[deviation_mask]) + np.random.normal(0, 0.5, np.sum(deviation_mask))\n",
    "y = y_log + np.concatenate([np.zeros(np.sum(~deviation_mask)), y_deviation])\n",
    "\n",
    "# Plot the data\n",
    "plt.scatter(x, y, label='Random Scatter with Logarithmic Increase and Deviation', color = \"r\")\n",
    "plt.xscale('log')  # Set x-axis to logarithmic scale\n",
    "plt.xlabel('X')\n",
    "plt.ylabel('Y')\n",
    "plt.title('Random Scatter with Logarithmic Increase and Deviation')\n",
    "plt.legend()\n",
    "plt.show()"
   ]
  },
  {
   "cell_type": "code",
   "execution_count": 258,
   "metadata": {
    "scrolled": false
   },
   "outputs": [
    {
     "name": "stdout",
     "output_type": "stream",
     "text": [
      "['tab:blue', 'tab:orange', 'tab:green', 'tab:red', 'tab:purple', 'tab:brown', 'tab:pink', 'tab:gray', 'tab:olive', 'tab:cyan', 'b', 'g', 'r', 'c', 'm', 'y', 'k', 'w', 'aliceblue', 'antiquewhite', 'aqua', 'aquamarine', 'azure', 'beige', 'bisque', 'black', 'blanchedalmond', 'blue', 'blueviolet', 'brown', 'burlywood', 'cadetblue', 'chartreuse', 'chocolate', 'coral', 'cornflowerblue', 'cornsilk', 'crimson', 'cyan', 'darkblue', 'darkcyan', 'darkgoldenrod', 'darkgray', 'darkgreen', 'darkgrey', 'darkkhaki', 'darkmagenta', 'darkolivegreen', 'darkorange', 'darkorchid', 'darkred', 'darksalmon', 'darkseagreen', 'darkslateblue', 'darkslategray', 'darkslategrey', 'darkturquoise', 'darkviolet', 'deeppink', 'deepskyblue', 'dimgray', 'dimgrey', 'dodgerblue', 'firebrick', 'floralwhite', 'forestgreen', 'fuchsia', 'gainsboro', 'ghostwhite', 'gold', 'goldenrod', 'gray', 'green', 'greenyellow', 'grey', 'honeydew', 'hotpink', 'indianred', 'indigo', 'ivory', 'khaki', 'lavender', 'lavenderblush', 'lawngreen', 'lemonchiffon', 'lightblue', 'lightcoral', 'lightcyan', 'lightgoldenrodyellow', 'lightgray', 'lightgreen', 'lightgrey', 'lightpink', 'lightsalmon', 'lightseagreen', 'lightskyblue', 'lightslategray', 'lightslategrey', 'lightsteelblue', 'lightyellow', 'lime', 'limegreen', 'linen', 'magenta', 'maroon', 'mediumaquamarine', 'mediumblue', 'mediumorchid', 'mediumpurple', 'mediumseagreen', 'mediumslateblue', 'mediumspringgreen', 'mediumturquoise', 'mediumvioletred', 'midnightblue', 'mintcream', 'mistyrose', 'moccasin', 'navajowhite', 'navy', 'oldlace', 'olive', 'olivedrab', 'orange', 'orangered', 'orchid', 'palegoldenrod', 'palegreen', 'paleturquoise', 'palevioletred', 'papayawhip', 'peachpuff', 'peru', 'pink', 'plum', 'powderblue', 'purple', 'rebeccapurple', 'red', 'rosybrown', 'royalblue', 'saddlebrown', 'salmon', 'sandybrown', 'seagreen', 'seashell', 'sienna', 'silver', 'skyblue', 'slateblue', 'slategray', 'slategrey', 'snow', 'springgreen', 'steelblue', 'tan', 'teal', 'thistle', 'tomato', 'turquoise', 'violet', 'wheat', 'white', 'whitesmoke', 'yellow', 'yellowgreen']\n"
     ]
    }
   ],
   "source": [
    "# import pprint \n",
    "# Get a list of all named colors\n",
    "all_named_colors = list(mcolors.TABLEAU_COLORS.keys()) + list(mcolors.BASE_COLORS.keys()) + list(mcolors.CSS4_COLORS.keys())\n",
    "\n",
    "# # Print the list of named colors\n",
    "# for color in all_named_colors:\n",
    "#     print(color)\n",
    "print(all_named_colors)#, indent=4, width=4)\n",
    "# type(all_named_colors)"
   ]
  },
  {
   "cell_type": "code",
   "execution_count": 218,
   "metadata": {},
   "outputs": [],
   "source": [
    "def generate_data(seed):\n",
    "    # Set a random seed for reproducibility\n",
    "    np.random.seed(seed=seed)\n",
    "    \n",
    "    ## Generate pseudo-random x values\n",
    "    \n",
    "    x1 = np.sort(np.random.uniform(70, 90, 30))\n",
    "    x2 = np.sort(np.random.uniform(45, 70, 12))\n",
    "    x3 = np.sort(np.random.uniform(1, 130, 80))\n",
    "    x4 = np.sort(np.random.uniform(1, 100, 100))\n",
    "    \n",
    "    ## Generate y values with a power distribution, and we'll add a bit of random scatter\n",
    "    scatter_factor1 = 50  ## This is just the standard deviation\n",
    "    scatter_factor2 = 500  # This is just the standard deviation\n",
    "    \n",
    "    y1 = np.abs(1.5 * x1**1.8 + 1.*scatter_factor2 * np.random.normal(0, 1.5, len(x1)))\n",
    "    y2 = np.abs(2.0 * x2**1.3 + .5*scatter_factor1 * np.random.normal(0, 2.0, len(x2)))\n",
    "    y3 = np.abs(2.0 * x3**1.3 + 1.*scatter_factor1 * np.random.normal(0, 2.0, len(x3)))\n",
    "    y4 = np.abs(1.5 * x4**1.8 + 1.*scatter_factor1 * np.random.normal(0, 1.5, len(x4)))\n",
    "\n",
    "\n",
    "    ## Generate two power lines\n",
    "    y3_line = np.abs(2.0 * x1**1.3)\n",
    "    y4_line = np.abs(1.5 * x2**1.8)\n",
    "    \n",
    "#     d = dict( A = np.array([1,2]), B = np.array([1,2,3,4]) )\n",
    "    \n",
    "# pd.DataFrame(dict([ (k,pd.Series(v)) for k,v in d.items() ]))\n",
    "    \n",
    "    d = dict(X1=x1,\n",
    "                       Y1=y1,\n",
    "                       X2=x2,\n",
    "                       Y2=y2,\n",
    "                       X3=x3,\n",
    "                       Y3=y3,\n",
    "                        X4=x4,\n",
    "                       Y4=y4,\n",
    "                       pY3=y3_line,\n",
    "                       pY4=y4_line\n",
    "                      )\n",
    "    df = pd.DataFrame(dict([ (k,pd.Series(v)) for k,v in d.items() ]))\n",
    "    return df"
   ]
  },
  {
   "cell_type": "code",
   "execution_count": 219,
   "metadata": {},
   "outputs": [
    {
     "data": {
      "text/html": [
       "<div>\n",
       "<style scoped>\n",
       "    .dataframe tbody tr th:only-of-type {\n",
       "        vertical-align: middle;\n",
       "    }\n",
       "\n",
       "    .dataframe tbody tr th {\n",
       "        vertical-align: top;\n",
       "    }\n",
       "\n",
       "    .dataframe thead th {\n",
       "        text-align: right;\n",
       "    }\n",
       "</style>\n",
       "<table border=\"1\" class=\"dataframe\">\n",
       "  <thead>\n",
       "    <tr style=\"text-align: right;\">\n",
       "      <th></th>\n",
       "      <th>X1</th>\n",
       "      <th>Y1</th>\n",
       "      <th>X2</th>\n",
       "      <th>Y2</th>\n",
       "      <th>X3</th>\n",
       "      <th>Y3</th>\n",
       "      <th>X4</th>\n",
       "      <th>Y4</th>\n",
       "      <th>pY3</th>\n",
       "      <th>pY4</th>\n",
       "    </tr>\n",
       "  </thead>\n",
       "  <tbody>\n",
       "    <tr>\n",
       "      <th>0</th>\n",
       "      <td>71.193558</td>\n",
       "      <td>3389.235295</td>\n",
       "      <td>47.302623</td>\n",
       "      <td>288.611154</td>\n",
       "      <td>1.346760</td>\n",
       "      <td>35.202824</td>\n",
       "      <td>1.735211</td>\n",
       "      <td>107.169363</td>\n",
       "      <td>511.920949</td>\n",
       "      <td>1551.974817</td>\n",
       "    </tr>\n",
       "    <tr>\n",
       "      <th>1</th>\n",
       "      <td>73.509035</td>\n",
       "      <td>3337.074093</td>\n",
       "      <td>47.890460</td>\n",
       "      <td>287.659020</td>\n",
       "      <td>3.080668</td>\n",
       "      <td>34.781534</td>\n",
       "      <td>3.902653</td>\n",
       "      <td>7.616240</td>\n",
       "      <td>533.670178</td>\n",
       "      <td>1586.863140</td>\n",
       "    </tr>\n",
       "    <tr>\n",
       "      <th>2</th>\n",
       "      <td>73.649835</td>\n",
       "      <td>3591.267120</td>\n",
       "      <td>52.806531</td>\n",
       "      <td>394.985493</td>\n",
       "      <td>6.623299</td>\n",
       "      <td>126.605487</td>\n",
       "      <td>4.187596</td>\n",
       "      <td>1.103571</td>\n",
       "      <td>534.999412</td>\n",
       "      <td>1892.034286</td>\n",
       "    </tr>\n",
       "    <tr>\n",
       "      <th>3</th>\n",
       "      <td>74.537029</td>\n",
       "      <td>1095.236654</td>\n",
       "      <td>55.645757</td>\n",
       "      <td>300.677364</td>\n",
       "      <td>11.732153</td>\n",
       "      <td>29.681508</td>\n",
       "      <td>5.809324</td>\n",
       "      <td>14.618013</td>\n",
       "      <td>543.392572</td>\n",
       "      <td>2079.069280</td>\n",
       "    </tr>\n",
       "    <tr>\n",
       "      <th>4</th>\n",
       "      <td>74.565265</td>\n",
       "      <td>3318.957307</td>\n",
       "      <td>55.658783</td>\n",
       "      <td>328.455133</td>\n",
       "      <td>13.346915</td>\n",
       "      <td>117.486830</td>\n",
       "      <td>5.860616</td>\n",
       "      <td>35.153092</td>\n",
       "      <td>543.660184</td>\n",
       "      <td>2079.945356</td>\n",
       "    </tr>\n",
       "  </tbody>\n",
       "</table>\n",
       "</div>"
      ],
      "text/plain": [
       "          X1           Y1         X2          Y2         X3          Y3  \\\n",
       "0  71.193558  3389.235295  47.302623  288.611154   1.346760   35.202824   \n",
       "1  73.509035  3337.074093  47.890460  287.659020   3.080668   34.781534   \n",
       "2  73.649835  3591.267120  52.806531  394.985493   6.623299  126.605487   \n",
       "3  74.537029  1095.236654  55.645757  300.677364  11.732153   29.681508   \n",
       "4  74.565265  3318.957307  55.658783  328.455133  13.346915  117.486830   \n",
       "\n",
       "         X4          Y4         pY3          pY4  \n",
       "0  1.735211  107.169363  511.920949  1551.974817  \n",
       "1  3.902653    7.616240  533.670178  1586.863140  \n",
       "2  4.187596    1.103571  534.999412  1892.034286  \n",
       "3  5.809324   14.618013  543.392572  2079.069280  \n",
       "4  5.860616   35.153092  543.660184  2079.945356  "
      ]
     },
     "execution_count": 219,
     "metadata": {},
     "output_type": "execute_result"
    }
   ],
   "source": [
    "DATA = generate_data(seed=seed)\n",
    "DATA.head()"
   ]
  },
  {
   "cell_type": "markdown",
   "metadata": {},
   "source": [
    "### `*args` are dictionaries containing additional `kwargs`.\n",
    "### `**kwargs` are additional `key`word `arg`ument`s` for customising plots. Some examples of things you could change include the marker sizes, the axis thickness, or the spacing between subplots."
   ]
  },
  {
   "cell_type": "markdown",
   "metadata": {},
   "source": [
    "### There are several named colours available in `matplotlib`, as well as the capacity to define or import colours and colourmaps. The following code will print out all the available named colours."
   ]
  },
  {
   "cell_type": "code",
   "execution_count": 260,
   "metadata": {},
   "outputs": [
    {
     "name": "stdout",
     "output_type": "stream",
     "text": [
      "['tab:blue', 'tab:orange', 'tab:green', 'tab:red', 'tab:purple', 'tab:brown', 'tab:pink', 'tab:gray', 'tab:olive', 'tab:cyan', 'b', 'g', 'r', 'c', 'm', 'y', 'k', 'w', 'aliceblue', 'antiquewhite', 'aqua', 'aquamarine', 'azure', 'beige', 'bisque', 'black', 'blanchedalmond', 'blue', 'blueviolet', 'brown', 'burlywood', 'cadetblue', 'chartreuse', 'chocolate', 'coral', 'cornflowerblue', 'cornsilk', 'crimson', 'cyan', 'darkblue', 'darkcyan', 'darkgoldenrod', 'darkgray', 'darkgreen', 'darkgrey', 'darkkhaki', 'darkmagenta', 'darkolivegreen', 'darkorange', 'darkorchid', 'darkred', 'darksalmon', 'darkseagreen', 'darkslateblue', 'darkslategray', 'darkslategrey', 'darkturquoise', 'darkviolet', 'deeppink', 'deepskyblue', 'dimgray', 'dimgrey', 'dodgerblue', 'firebrick', 'floralwhite', 'forestgreen', 'fuchsia', 'gainsboro', 'ghostwhite', 'gold', 'goldenrod', 'gray', 'green', 'greenyellow', 'grey', 'honeydew', 'hotpink', 'indianred', 'indigo', 'ivory', 'khaki', 'lavender', 'lavenderblush', 'lawngreen', 'lemonchiffon', 'lightblue', 'lightcoral', 'lightcyan', 'lightgoldenrodyellow', 'lightgray', 'lightgreen', 'lightgrey', 'lightpink', 'lightsalmon', 'lightseagreen', 'lightskyblue', 'lightslategray', 'lightslategrey', 'lightsteelblue', 'lightyellow', 'lime', 'limegreen', 'linen', 'magenta', 'maroon', 'mediumaquamarine', 'mediumblue', 'mediumorchid', 'mediumpurple', 'mediumseagreen', 'mediumslateblue', 'mediumspringgreen', 'mediumturquoise', 'mediumvioletred', 'midnightblue', 'mintcream', 'mistyrose', 'moccasin', 'navajowhite', 'navy', 'oldlace', 'olive', 'olivedrab', 'orange', 'orangered', 'orchid', 'palegoldenrod', 'palegreen', 'paleturquoise', 'palevioletred', 'papayawhip', 'peachpuff', 'peru', 'pink', 'plum', 'powderblue', 'purple', 'rebeccapurple', 'red', 'rosybrown', 'royalblue', 'saddlebrown', 'salmon', 'sandybrown', 'seagreen', 'seashell', 'sienna', 'silver', 'skyblue', 'slateblue', 'slategray', 'slategrey', 'snow', 'springgreen', 'steelblue', 'tan', 'teal', 'thistle', 'tomato', 'turquoise', 'violet', 'wheat', 'white', 'whitesmoke', 'yellow', 'yellowgreen']\n"
     ]
    }
   ],
   "source": [
    "named_colours = list(\n",
    "    mcolors.TABLEAU_COLORS.keys()) + list(\n",
    "    mcolors.BASE_COLORS.keys()) + list(\n",
    "    mcolors.CSS4_COLORS.keys())\n",
    "print(named_colours)"
   ]
  },
  {
   "cell_type": "code",
   "execution_count": 483,
   "metadata": {},
   "outputs": [],
   "source": [
    "def plot_dataframe(DATA, *args, vertical = False, vertical_spacing=0.4, horizontal_spacing=0.5):\n",
    "    if vertical == False:\n",
    "        nrows = 1\n",
    "        ncols = 2\n",
    "    else:\n",
    "        nrows = 2\n",
    "        ncols = 1\n",
    "\n",
    "    fig, (AX1, AX2) = plt.subplots(nrows=nrows,ncols=ncols, figsize=(8, 4), dpi = 300,\n",
    "                                   #subplot_kw={'xlabel': 'X-axis', 'ylabel': 'Y-axis'}\n",
    "                                  )\n",
    "    AX1.scatter(DATA.X1, DATA.Y1, **custom_kwargs1)\n",
    "    AX1.scatter(DATA.X2, DATA.Y2, **custom_kwargs2)    \n",
    "    AX2.scatter(DATA.X1, DATA.Y1, **S2_D1)\n",
    "    AX2.scatter(DATA.X2, DATA.Y2)\n",
    "    AX2.scatter(DATA.X3, DATA.Y3)\n",
    "    AX2.scatter(DATA.X4, DATA.Y4)\n",
    "    \n",
    "    for (method, arguments) in S1_kwargs.items():\n",
    "        try:\n",
    "            getattr(AX1, f\"set_{method}\")(*arguments)\n",
    "        except AttributeError:\n",
    "            print(\"Please everyone panic.\")\n",
    "            \n",
    "    for (method, arguments) in S2_kwargs.items():\n",
    "        try:\n",
    "            getattr(AX2, f\"set_{method}\")(*arguments)\n",
    "        except:\n",
    "            print(\"Please everyone panic. AX2-1\")\n",
    "            pass\n",
    "        try:\n",
    "            getattr(AX2, f\"{method}\")(*arguments)\n",
    "        except AttributeError:\n",
    "            print(\"Please everyone panic. AX2-2\")\n",
    "    \n",
    "    # Adjust the spacing between subplots\n",
    "#     plt.subplots_adjust(top=0.9, bottom=0.1, left=0.1, right=0.9, wspace=0.5, hspace=0.4)\n",
    "    plt.subplots_adjust(wspace=horizontal_spacing, hspace=vertical_spacing)\n",
    "#     AX2.set_grid(\"on\")\n",
    "    \n",
    "    plt.show()"
   ]
  },
  {
   "cell_type": "code",
   "execution_count": 484,
   "metadata": {},
   "outputs": [],
   "source": [
    "plt.rcParams['font.family'] = 'fantasy' ## \"fantasy\", \"sans-serif\", \"cursive\", \"serif\", \"monospace\"\n",
    "\n",
    "## Subplot 1 kwargs. These control parameters for the second subplot.\n",
    "S1_kwargs = {\n",
    "    \"xlabel\": [\"Y data\"], ## Something descriptive\n",
    "    \"ylabel\": [\"X data\"], ## Something descriptive\n",
    "    \"xscale\": [\"linear\"], ## Axes can be logged [\"log\"] or [\"linear\"]\n",
    "    \"yscale\": [\"linear\"],    ## Axes can be logged [\"log\"] or [\"linear\"]\n",
    "    \"xlim\": [(-11, 80.9 )],     ## Minimum and maximum values to display on x axis\n",
    "    \"ylim\": [(1, 4000)],     ## Minimum and maximum values to display on y axis\n",
    "    \"title\" : [\"Title\"],\n",
    "    \"facecolor\" : [\"pink\"]\n",
    "}\n",
    "\n",
    "## Dataset 1 kwargs. These control parameters for the first set of (x,y) data.\n",
    "S1_D1 = {}\n",
    "\n",
    "## Dataset 2 kwargs. These control parameters for the second set of (x,y) data.\n",
    "S1_D2 = {}\n",
    "\n",
    "## Subplot 2 kwargs. These control parameters for the second subplot.\n",
    "S2_kwargs = {\n",
    "    \"xlabel\": [\"X data\"],\n",
    "    \"ylabel\": [\"Y data\"],\n",
    "    \"grid\": [\"on\"],\n",
    "#     \"spines[[]].set_visible(False)\":\"right\"\n",
    "#     \"spines['top'].set_visible]\":[\"False\"]\n",
    "}\n",
    "\n",
    "## Dataset 1 kwargs. These control parameters for the first set of (x,y) data.\n",
    "S2_D1 = {\n",
    "    \"s\": 100,            ## Marker size (scalar value or an array of the same length as the dataset)\n",
    "    \"color\": \"k\",       ## Marker colour (see options above)\n",
    "    \"marker\": \"s\",      ## Marker shape (options include: 's', 'o', '.', ',', '*', '^', 'v', 'p')\n",
    "    \"zorder\": 10,       ## Order of items on plot\n",
    "    \"alpha\": 0.5,       ## Transparancy (values between 0.0 and 1.0)\n",
    "    \"edgecolors\": \"b\",  ## Colour of marker edges\n",
    "    \"linewidths\": 3,    ## Width of marker edges\n",
    "    \"linestyle\": \"--\"   ## Linestyle for mmarker edges ('-', ':', '--', \".-\")\n",
    "}\n",
    "\n",
    "## Dataset 2 kwargs. These control parameters for the second set of (x,y) data.\n",
    "S2_D2 = {}\n",
    "\n",
    "## Dataset 3 kwargs. These control parameters for the third set of (x,y) data.\n",
    "S2_D3 = {}\n",
    "\n",
    "## Dataset 4 kwargs. These control parameters for the fourth set of (x,y) data.\n",
    "S2_D4 = {}\n",
    "\n",
    "## Model 1 kwargs\n",
    "\n",
    "## Model 2 kwargs\n",
    "\n",
    "\n",
    "m2_kwargs = {'s': 100}\n",
    "\n",
    "kwargs = {'s': 50, 'c': 'red', 'alpha': 0.7}\n",
    "\n",
    "# Define custom kwargs for each dataset\n",
    "custom_kwargs1 = {'s': 90, 'c': 'purple', 'alpha': 0.7}\n",
    "custom_kwargs2 = {'s': 30, 'c': 'blue', 'marker': '^'}\n",
    "\n"
   ]
  },
  {
   "cell_type": "code",
   "execution_count": 489,
   "metadata": {},
   "outputs": [
    {
     "name": "stdout",
     "output_type": "stream",
     "text": [
      "Please everyone panic. AX2-2\n",
      "Please everyone panic. AX2-2\n",
      "Please everyone panic. AX2-1\n"
     ]
    },
    {
     "data": {
      "image/png": "[encoded data removed]",
      "text/plain": [
       "<Figure size 2400x1200 with 2 Axes>"
      ]
     },
     "metadata": {
      "needs_background": "light"
     },
     "output_type": "display_data"
    }
   ],
   "source": [
    "plot_dataframe(DATA, custom_kwargs1, custom_kwargs2, S2_D1,S1_kwargs, vertical = True,\n",
    "               \n",
    "               vertical_spacing=0.9, horizontal_spacing=0.1)\n"
   ]
  },
  {
   "cell_type": "code",
   "execution_count": null,
   "metadata": {},
   "outputs": [],
   "source": []
  },
  {
   "cell_type": "code",
   "execution_count": 203,
   "metadata": {
    "scrolled": true
   },
   "outputs": [
    {
     "data": {
      "image/png": "[encoded data removed]",
      "text/plain": [
       "<Figure size 432x288 with 1 Axes>"
      ]
     },
     "metadata": {
      "needs_background": "light"
     },
     "output_type": "display_data"
    }
   ],
   "source": [
    "import numpy as np\n",
    "import matplotlib.pyplot as plt\n",
    "\n",
    "# Set a random seed for reproducibility\n",
    "np.random.seed(seed)\n",
    "\n",
    "# Generate random x values\n",
    "x1 = np.sort(np.random.uniform(1, 130, 80))\n",
    "\n",
    "x2 = np.sort(np.random.uniform(1, 100, 100))\n",
    "\n",
    "x3 = np.sort(np.random.uniform(70, 90, 30))\n",
    "\n",
    "x4 = np.sort(np.random.uniform(45, 70, 12))\n",
    "\n",
    "# # Generate y values with a power distribution and random scatter\n",
    "# y1 = 2 * x**1.5 + 500*np.random.normal(0, 2, len(x))\n",
    "# y2 = 1.5 * x**1.8 + np.random.normal(0, 1.5, len(x))\n",
    "# Increase the amount of scatter by adjusting the standard deviation\n",
    "scatter_factor1 = 50  # Adjust this factor to control the amount of scatter\n",
    "scatter_factor2 = 500  # Adjust this factor to control the amount of scatter\n",
    "y1 = np.abs(2.0 * x1**1.3 + scatter_factor1 * np.random.normal(0, 2.0, len(x1)))\n",
    "y1_line = np.abs(2.0 * x1**1.3)\n",
    "y2 = np.abs(1.5 * x2**1.8 + scatter_factor1 * np.random.normal(0, 1.5, len(x2)))\n",
    "y2_line = np.abs(1.5 * x2**1.8)\n",
    "\n",
    "y3 = np.abs(1.5 * x3**1.8 + scatter_factor2 * np.random.normal(0, 1.5, len(x3)))\n",
    "y4 = np.abs(2.0 * x4**1.3 + .5*scatter_factor1* np.random.normal(0, 2.0, len(x4)))\n",
    "\n",
    "# Plot the data\n",
    "plt.scatter(x1, y1, label='Dataset 1')\n",
    "plt.plot(x1, y1_line, \"k-\")\n",
    "plt.scatter(x2, y2, label='Dataset 2')\n",
    "plt.plot(x2, y2_line, \"k-\")\n",
    "plt.scatter(x3, y3, label='Dataset 3')\n",
    "plt.scatter(x4, y4, label='Dataset 3')\n",
    "plt.xlabel('X')\n",
    "plt.ylabel('Y')\n",
    "# plt.xlim(xmin=-10, xmax=150)\n",
    "plt.ylim(ymin=1, ymax=2e4)\n",
    "plt.yscale(\"log\")\n",
    "plt.xscale(\"log\")\n",
    "plt.title('Datasets with Power Distribution and Scatter')\n",
    "plt.legend()\n",
    "plt.show()"
   ]
  },
  {
   "cell_type": "code",
   "execution_count": 222,
   "metadata": {},
   "outputs": [
    {
     "data": {
      "text/plain": [
       "<matplotlib.collections.PathCollection at 0x7feaa006c7b8>"
      ]
     },
     "execution_count": 222,
     "metadata": {},
     "output_type": "execute_result"
    },
    {
     "data": {
      "image/png": "[encoded data removed]",
      "text/plain": [
       "<Figure size 432x288 with 1 Axes>"
      ]
     },
     "metadata": {
      "needs_background": "light"
     },
     "output_type": "display_data"
    }
   ],
   "source": [
    "plt.scatter(DATA.X1, DATA.Y1, label='Dataset 1')\n",
    "plt.scatter(DATA.X2, DATA.Y2, label='Dataset 2')\n",
    "# plt.xscale(\"log\")\n",
    "# plt.yscale(\"log\")"
   ]
  },
  {
   "cell_type": "code",
   "execution_count": 43,
   "metadata": {},
   "outputs": [
    {
     "data": {
      "text/plain": [
       "(array([27., 13., 10., 13., 10.,  5.,  8.,  3.,  7.,  4.]),\n",
       " array([2.64868468e+02, 3.70532245e+04, 7.38415806e+04, 1.10629937e+05,\n",
       "        1.47418293e+05, 1.84206649e+05, 2.20995005e+05, 2.57783361e+05,\n",
       "        2.94571717e+05, 3.31360073e+05, 3.68148429e+05]),\n",
       " <a list of 10 Patch objects>)"
      ]
     },
     "execution_count": 43,
     "metadata": {},
     "output_type": "execute_result"
    },
    {
     "data": {
      "image/png": "[encoded data removed]",
      "text/plain": [
       "<Figure size 432x288 with 1 Axes>"
      ]
     },
     "metadata": {
      "needs_background": "light"
     },
     "output_type": "display_data"
    }
   ],
   "source": [
    "plt.hist(y1, alpha= 0.5)\n",
    "plt.hist(y2, alpha= 0.5)"
   ]
  },
  {
   "cell_type": "code",
   "execution_count": null,
   "metadata": {},
   "outputs": [],
   "source": []
  }
 ],
 "metadata": {
  "kernelspec": {
   "display_name": "Python 3",
   "language": "python",
   "name": "python3"
  },
  "language_info": {
   "codemirror_mode": {
    "name": "ipython",
    "version": 3
   },
   "file_extension": ".py",
   "mimetype": "text/x-python",
   "name": "python",
   "nbconvert_exporter": "python",
   "pygments_lexer": "ipython3",
   "version": "3.6.7"
  }
 },
 "nbformat": 4,
 "nbformat_minor": 2
}
